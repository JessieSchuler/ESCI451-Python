{
 "cells": [
  {
   "cell_type": "markdown",
   "metadata": {},
   "source": [
    "# Introduction to Python for Earth Scientists\n",
    "\n",
    "These notebooks have been developed by Calum Chamberlain, Finnigan Illsley-Kemp and John Townend at [Victoria University of Wellington-Te Herenga Waka](https://www.wgtn.ac.nz) for use by Earth Science graduate students. \n",
    "\n",
    "The notebooks cover material that we think will be of particular benefit to those students with little or no previous experience of computer-based data analysis. We presume very little background in command-line or code-based computing, and have compiled this material with an emphasis on general tasks that a grad student might encounter on a daily basis. \n",
    "\n",
    "In 2021, this material will be delivered at the start of Trimester 1 in conjunction with [ESCI451 Active Earth](https://www.wgtn.ac.nz/courses/esci/451/2021/offering?crn=32176). Space and pandemic alert levels permitting, interested students not enrolled in ESCI451 are encouraged to come along too but please contact Calum, Finn, or John first.\n",
    "\n",
    "\n",
    "| Notebook | Contents | Data |\n",
    "| --- | --- | --- |\n",
    "| [1A](ESCI451_Module_1A.ipynb) | Introduction to programming, Python, and Jupyter notebooks | - |\n",
    "| **[1B](ESCI451_Module_1B.ipynb)** | **Basic data types and variables, getting data, and plotting with Matplotlib** | **Geodetic positions** |\n",
    "| [2A](ESCI451_Module_2A.ipynb) | Logic, more complex plotting, introduction to Numpy | Geodetic positions; DFDP-2B temperatures |\n",
    "| [2B](ESCI451_Module_2B.ipynb) | Using Pandas to load, peruse and plot data | Earthquake catalogue  |\n",
    "| [3A](ESCI451_Module_3A.ipynb) | Working with Pandas dataframes | Geochemical data set; earthquake catalogue |\n",
    "| [3B](ESCI451_Module_3B.ipynb) | Simple time series analysis using Pandas | Historical temperature records |\n",
    "| [4A](ESCI451_Module_4A.ipynb) | Making maps with Cartopy | Earthquake catalogue |\n",
    "| [4B](ESCI451_Module_4B.ipynb) | Working with gridded data | DEMs and Ashfall data |\n",
    "\n",
    "\n",
    "The content may change in response to students' questions or current events. Each of the four modules has been designed to take about three hours, with a short break between each of the two parts."
   ]
  },
  {
   "cell_type": "markdown",
   "metadata": {},
   "source": [
    "# This notebook\n",
    "\n",
    "1. Some essential Python terminology\n",
    "   - Data types\n",
    "   - Variables\n",
    "   - Good ideas for naming variables\n",
    "   - Comments\n",
    "   - Manipulating strings and lists\n",
    "   - Dictionaries\n",
    "2. A first go at downloading and plotting data\n",
    "   - Getting data with a function\n",
    "   - Plotting it with Matplotlib\n",
    "   - Labelling and saving figures\n"
   ]
  },
  {
   "cell_type": "markdown",
   "metadata": {},
   "source": [
    "# Some essential Python terminology\n",
    "\n",
    "## Data types\n",
    "\n",
    "We said that `\"Hello World!\"` was a string (known as `str` in Python, there are a few other data types that you should know about \n",
    "(there are others that we don't need to worry about yet):\n",
    "\n",
    "- `int`: For storing integers, like 1, 4, 999, -2000\n",
    "- `float`: For storing floating-point numbers, like 1.2, -37.473, 42.424242424242 - there is a limit to the precision!\n",
    "- `list`: For storing lists of other objects, written using square-brackets, e.g.: `[1, 2, \"alfred\", 3.2]`, note \n",
    "   that any other data type can be within a list, including another list. The order that you put things into\n",
    "   a `list` is retained.\n",
    "- `set`: Another data type for storing other objects, but this time only unique elements are stored, and order\n",
    "  is not guaranteed. `Set`s are written using curly-brackets, e.g: `{1, 2, \"alfred\", 3.2}`. These can be really\n",
    "  useful for getting a unique set of *things*.\n",
    "- `dict`: A further data type for storing other objects.  In a `dict` (short for dictionary), *values* are stored\n",
    "  associated with some *key* in key: value pairs (e.g. {key: value}).  This is really useful for keeping track of attributes, for example you might have a dictionary to store the attributes associated with an observation like:\n",
    "  `rock = {\"type\": \"andesite\", \"age\": \"10\", \"comment\": \"Tastes like fish\"}`\n",
    "  \n",
    "`print` will take any of these types, convert it to a `str` and print it to screen:"
   ]
  },
  {
   "cell_type": "code",
   "execution_count": 1,
   "metadata": {},
   "outputs": [
    {
     "name": "stdout",
     "output_type": "stream",
     "text": [
      "1\n"
     ]
    }
   ],
   "source": [
    "print(1)"
   ]
  },
  {
   "cell_type": "code",
   "execution_count": 2,
   "metadata": {},
   "outputs": [
    {
     "name": "stdout",
     "output_type": "stream",
     "text": [
      "43.4242\n"
     ]
    }
   ],
   "source": [
    "print(43.4242)"
   ]
  },
  {
   "cell_type": "code",
   "execution_count": 3,
   "metadata": {},
   "outputs": [
    {
     "name": "stdout",
     "output_type": "stream",
     "text": [
      "[1, 2, 'alfred']\n"
     ]
    }
   ],
   "source": [
    "print([1, 2, \"alfred\"])"
   ]
  },
  {
   "cell_type": "code",
   "execution_count": 4,
   "metadata": {},
   "outputs": [
    {
     "name": "stdout",
     "output_type": "stream",
     "text": [
      "{1, 2, 'alfred'}\n"
     ]
    }
   ],
   "source": [
    "# NBVAL_IGNORE_OUTPUT\n",
    "print({1, 2, \"alfred\"})"
   ]
  },
  {
   "cell_type": "code",
   "execution_count": 5,
   "metadata": {},
   "outputs": [
    {
     "name": "stdout",
     "output_type": "stream",
     "text": [
      "{1, 2, 6}\n"
     ]
    }
   ],
   "source": [
    "print({1, 2, 6, 2, 1})"
   ]
  },
  {
   "cell_type": "markdown",
   "metadata": {},
   "source": [
    "Notice that the final print only printed the unique elements of the `set` - only those attributes are stored."
   ]
  },
  {
   "cell_type": "code",
   "execution_count": 6,
   "metadata": {},
   "outputs": [
    {
     "name": "stdout",
     "output_type": "stream",
     "text": [
      "{'type': 'andesite', 'age': '10', 'comment': 'Tastes like fish'}\n"
     ]
    }
   ],
   "source": [
    "rock = {\"type\": \"andesite\", \"age\": \"10\", \"comment\": \"Tastes like fish\"}\n",
    "print(rock)"
   ]
  },
  {
   "cell_type": "markdown",
   "metadata": {},
   "source": [
    "## Variables\n",
    "\n",
    "Programming languages keep track of values using variables. You (the programmer) assign some name to a value, and the computer keeps track of this value in memory.  You can then use this variable later in your code, e.g. you can\n",
    "do some maths! The symbols for doing mathematical operations are:\n",
    "\n",
    "- `+` addition\n",
    "- `-` subtraction\n",
    "- `*` multiplication\n",
    "- `/` division\n",
    "- `**` exponentation\n",
    "\n",
    "Note that division will always return a `float` in Python 3.x."
   ]
  },
  {
   "cell_type": "code",
   "execution_count": 7,
   "metadata": {},
   "outputs": [
    {
     "name": "stdout",
     "output_type": "stream",
     "text": [
      "17\n"
     ]
    }
   ],
   "source": [
    "a = 5\n",
    "b = 12\n",
    "c = a + b\n",
    "print(c)"
   ]
  },
  {
   "cell_type": "markdown",
   "metadata": {},
   "source": [
    "You can also change the value of a variable *in-place* using the following symbols:\n",
    "\n",
    "- `+=` addition in-place\n",
    "- `-=` subtraction in-place\n",
    "- `*=` multiplication in-place\n",
    "- `/=` division in-place\n",
    "- `**=` exponentiation in-place"
   ]
  },
  {
   "cell_type": "code",
   "execution_count": 8,
   "metadata": {},
   "outputs": [
    {
     "name": "stdout",
     "output_type": "stream",
     "text": [
      "8\n"
     ]
    }
   ],
   "source": [
    "d = 5\n",
    "d += 3\n",
    "print(d)"
   ]
  },
  {
   "cell_type": "code",
   "execution_count": 9,
   "metadata": {},
   "outputs": [
    {
     "name": "stdout",
     "output_type": "stream",
     "text": [
      "2.6666666666666665\n"
     ]
    }
   ],
   "source": [
    "d /= 3\n",
    "print(d)"
   ]
  },
  {
   "cell_type": "code",
   "execution_count": 10,
   "metadata": {},
   "outputs": [
    {
     "name": "stdout",
     "output_type": "stream",
     "text": [
      "18.96296296296296\n"
     ]
    }
   ],
   "source": [
    "d **= 3\n",
    "print(d)"
   ]
  },
  {
   "cell_type": "markdown",
   "metadata": {},
   "source": [
    "Note that if you run the above cell again, without re-running from when we first defined d, you will get a different returned value. **Watch out when working in-place on data!**\n",
    "\n",
    "**Exercise:** Now it is your turn. Do some maths! \n",
    "\n",
    "For a seismic station recording at 100 Hz (100 samples per second), work out how many samples are recorded per day, then convert this to GB assuming that each sample is stored as an `int`.\n",
    "\n",
    "We can work out how much memory is used by an `int` in Python by running `sys.getsizeof(int())`."
   ]
  },
  {
   "cell_type": "code",
   "execution_count": 11,
   "metadata": {},
   "outputs": [
    {
     "data": {
      "text/plain": [
       "24"
      ]
     },
     "execution_count": 11,
     "metadata": {},
     "output_type": "execute_result"
    }
   ],
   "source": [
    "import sys\n",
    "\n",
    "sys.getsizeof(int())"
   ]
  },
  {
   "cell_type": "code",
   "execution_count": 12,
   "metadata": {},
   "outputs": [],
   "source": [
    "# Your maths here! Check notebook 1 for some hints on how many seconds are in a day..."
   ]
  },
  {
   "cell_type": "markdown",
   "metadata": {},
   "source": [
    "**Exercise:** Use Python as a calculator - what is the answer to this:\n",
    "\\begin{equation}\n",
    "    \\frac{(a \\times b)^c}{d - e}\n",
    "\\end{equation}\n",
    "where \n",
    "- a is 24, \n",
    "- b is 42, \n",
    "- c is 3, \n",
    "- d is 10 and \n",
    "- e is 15\n",
    "\n",
    "*The Answer is: -204838502.4*"
   ]
  },
  {
   "cell_type": "code",
   "execution_count": 13,
   "metadata": {},
   "outputs": [],
   "source": [
    "# Your answer here"
   ]
  },
  {
   "cell_type": "markdown",
   "metadata": {},
   "source": [
    "## Good ideas for naming variables\n",
    "\n",
    "You should always give your variables useful names. Python doesn't demand this, but it does allow it. You should write\n",
    "your code so that you (both now and in ten years time, as well as other people) can understand it; as \n",
    "[Martin Fowler](https://en.wikiquote.org/wiki/Martin_Fowler) wrote:\n",
    "\n",
    "> Any fool can write code that a computer can understand. Good programmers write code that humans can understand.\n",
    "\n",
    "Hopefully you will note that variable names `a`, `b`, `c`, ... are crap names for variables! Try to use simple\n",
    "but expressive names, e.g. if you have a list of different volcano names, don't call that variable `vn`, nor\n",
    "should you call it `volcano_names_used_in_this_code_with_effusive_eruptions`; just call it `volcano_names`.\n",
    "*If* you need to get into more detail, maybe you should be using more complex data-types, like `dict`s. We will\n",
    "play with some of these later."
   ]
  },
  {
   "cell_type": "markdown",
   "metadata": {},
   "source": [
    "## Comments\n",
    "\n",
    "Ideally you will write code with useful variable names and obvious logic so that you can read an understand your\n",
    "programs as if they were prose. When you find that it is a little harder to understand, you should add comments.\n",
    "\n",
    "Comments are text in your program that are not executed (run), and are just there to help the reader understand\n",
    "what is going on. While you are learning they can be really handy, and people often start code as a series of\n",
    "comments that they then convert into code.\n",
    "\n",
    "Comments in Python start with a `#` character, e.g.:"
   ]
  },
  {
   "cell_type": "code",
   "execution_count": 14,
   "metadata": {},
   "outputs": [
    {
     "name": "stdout",
     "output_type": "stream",
     "text": [
      "Total volume ejected: 35.949999999999996 km^3\n",
      "Average volume per-event: 8.987499999999999 km^3\n"
     ]
    }
   ],
   "source": [
    "# Total volume of material in cubic km\n",
    "volume_ejected_in_units_Z_through_W = [0.1, 35.0, 0.8, 0.05]\n",
    "# sum is a Python function over any iterable\n",
    "total_volume = sum(volume_ejected_in_units_Z_through_W)\n",
    "print(f\"Total volume ejected: {total_volume} km^3\")\n",
    "# len tells you how long an object is\n",
    "n_events = len(volume_ejected_in_units_Z_through_W)\n",
    "average_volume = total_volume / n_events\n",
    "print(f\"Average volume per-event: {average_volume} km^3\")"
   ]
  },
  {
   "cell_type": "markdown",
   "metadata": {},
   "source": [
    "Those values look silly, so lets just print them to two decimal places.\n",
    "\n",
    "You can format floating point numbers in your format string using syntax like:\n",
    "```python\n",
    "print(f\"This is a big number: {big_number:.2f}\")\n",
    "```\n",
    "where the `:.2f` specifies to round a `float` 2 decimal places.  You can change the number (`2`) to get different number of decimal places."
   ]
  },
  {
   "cell_type": "code",
   "execution_count": 15,
   "metadata": {},
   "outputs": [
    {
     "name": "stdout",
     "output_type": "stream",
     "text": [
      "Total volume ejected: 35.95 km^3\n",
      "Average volume per-event: 8.99 km^3\n"
     ]
    }
   ],
   "source": [
    "print(f\"Total volume ejected: {total_volume:.2f} km^3\")\n",
    "print(f\"Average volume per-event: {average_volume:.2f} km^3\")"
   ]
  },
  {
   "cell_type": "markdown",
   "metadata": {},
   "source": [
    "## String manipulation\n",
    "\n",
    "The above example illustrates one way in which strings can be printed. We can do all sorts of fun things with strings, such as adding them together (or, more precisely, \"concatenating\" them):"
   ]
  },
  {
   "cell_type": "code",
   "execution_count": 16,
   "metadata": {},
   "outputs": [
    {
     "name": "stdout",
     "output_type": "stream",
     "text": [
      "Monty Python and the Holy Grail\n"
     ]
    }
   ],
   "source": [
    "sentence_start = \"Monty Python and the \"\n",
    "sentence_end = \"Holy Grail\"\n",
    "sentence = sentence_start + sentence_end\n",
    "print(sentence)"
   ]
  },
  {
   "cell_type": "markdown",
   "metadata": {},
   "source": [
    "Or we can make a list of them and join them together with another string in between:"
   ]
  },
  {
   "cell_type": "code",
   "execution_count": 17,
   "metadata": {},
   "outputs": [
    {
     "name": "stdout",
     "output_type": "stream",
     "text": [
      "Monty Python and the Un-Holy Grail\n"
     ]
    }
   ],
   "source": [
    "sentence = \"Un-\".join([sentence_start, sentence_end])\n",
    "print(sentence)"
   ]
  },
  {
   "cell_type": "markdown",
   "metadata": {},
   "source": [
    "We can operate in-place on strings as well:"
   ]
  },
  {
   "cell_type": "code",
   "execution_count": 18,
   "metadata": {},
   "outputs": [
    {
     "name": "stdout",
     "output_type": "stream",
     "text": [
      "Monty Python and the Holy Grail\n"
     ]
    }
   ],
   "source": [
    "sentence = sentence_start\n",
    "sentence += sentence_end\n",
    "print(sentence)"
   ]
  },
  {
   "cell_type": "markdown",
   "metadata": {},
   "source": [
    "We can make new strings using *format* strings, like we did in the example above. Here we start a string with an `f`, then open\n",
    "quotes to mark the start of a string. Within this, any plain text is interpreted to be a string. Anything within curly\n",
    "brackets (`{}`) is interpreted as a variable name and converted to a string."
   ]
  },
  {
   "cell_type": "code",
   "execution_count": 19,
   "metadata": {},
   "outputs": [
    {
     "name": "stdout",
     "output_type": "stream",
     "text": [
      "Monty Python and the Holy Grail is a rather amusing film\n"
     ]
    }
   ],
   "source": [
    "sentence = f\"{sentence_start}{sentence_end} is a rather amusing film\"\n",
    "print(sentence)"
   ]
  },
  {
   "cell_type": "markdown",
   "metadata": {},
   "source": [
    "There is lots more that you can do with format strings that we don't need to go into yet, but you can find out more\n",
    "[in the Python docs](https://docs.python.org/3.6/reference/lexical_analysis.html#f-strings)."
   ]
  },
  {
   "cell_type": "markdown",
   "metadata": {},
   "source": [
    "## List manipulation"
   ]
  },
  {
   "cell_type": "markdown",
   "metadata": {},
   "source": [
    "Each element of a list can be accessed by its index. In Python, the first element in a list is at\n",
    "index `0`.  This may seem unnecessarily complicated (it is), but you get used to it - and you do need to remember this convention, which differs from some other languages which start at `1`.\n",
    "(The reason for this is to do with the byte-offset from the start of the memory-block containing the list, ... but\n",
    "you don't need to know that and its best to just let the hard-core Python zealots fight over it amongst  themselves.)\n",
    "\n",
    "In any case, say we have a list of 10 elements, indexed as follows:\n",
    "\n",
    "```python\n",
    "some_list = [1, 9, 3, 26, 7, 9, 42, 99, 1000, -2]\n",
    "# indexes:   0  1  2   3  4  5   6   7     8   9\n",
    "```\n",
    "\n",
    "You can also specify the index as the position from the end, in this case, the equivalent indexes are:\n",
    "\n",
    "```python\n",
    "some_list = [1, 9, 3, 26, 7, 9, 42, 99, 1000, -2]\n",
    "# indexes: -10 -9 -8  -7 -6 -5  -4  -3    -2  -1\n",
    "```\n",
    "\n",
    "Lets have a go at manipulating some lists based on their indexes, we will use the `\"Monty Python and the Holy Grail\"` example again."
   ]
  },
  {
   "cell_type": "code",
   "execution_count": 20,
   "metadata": {},
   "outputs": [],
   "source": [
    "sentence = \"Monty Python and the Holy Grail\""
   ]
  },
  {
   "cell_type": "markdown",
   "metadata": {},
   "source": [
    "We can split a string based on any character to get a list of strings:"
   ]
  },
  {
   "cell_type": "code",
   "execution_count": 21,
   "metadata": {},
   "outputs": [
    {
     "name": "stdout",
     "output_type": "stream",
     "text": [
      "['Monty', 'Python', 'and', 'the', 'Holy', 'Grail']\n"
     ]
    }
   ],
   "source": [
    "words = sentence.split(\" \")\n",
    "print(words)"
   ]
  },
  {
   "cell_type": "markdown",
   "metadata": {},
   "source": [
    "We can re-arange by making new lists from parts of the original list"
   ]
  },
  {
   "cell_type": "code",
   "execution_count": 22,
   "metadata": {},
   "outputs": [
    {
     "name": "stdout",
     "output_type": "stream",
     "text": [
      "['Holy', 'Monty']\n"
     ]
    }
   ],
   "source": [
    "sense = [words[-2], words[0]]\n",
    "print(sense)"
   ]
  },
  {
   "cell_type": "markdown",
   "metadata": {},
   "source": [
    "We can add parts of a list together to get a new thing:"
   ]
  },
  {
   "cell_type": "code",
   "execution_count": 23,
   "metadata": {},
   "outputs": [
    {
     "name": "stdout",
     "output_type": "stream",
     "text": [
      "Grailand\n"
     ]
    }
   ],
   "source": [
    "nonsense = words[-1] + words[2]\n",
    "print(nonsense)"
   ]
  },
  {
   "cell_type": "markdown",
   "metadata": {},
   "source": [
    "We can take chunks of the list by *slicing* using the syntax `slicable_object[start:end]` where `start` and `end` are the first and last (+1) indexes we want to access, e.g. we get everything `start <= things < end`:"
   ]
  },
  {
   "cell_type": "code",
   "execution_count": 24,
   "metadata": {},
   "outputs": [
    {
     "name": "stdout",
     "output_type": "stream",
     "text": [
      "['Monty', 'Python', 'and']\n"
     ]
    }
   ],
   "source": [
    "first_three_words = words[0:3]\n",
    "print(first_three_words)"
   ]
  },
  {
   "cell_type": "markdown",
   "metadata": {},
   "source": [
    "We can append values to a list:"
   ]
  },
  {
   "cell_type": "code",
   "execution_count": 25,
   "metadata": {},
   "outputs": [
    {
     "name": "stdout",
     "output_type": "stream",
     "text": [
      "['Monty', 'Python', 'and', 'the']\n"
     ]
    }
   ],
   "source": [
    "first_three_words.append(\"the\")\n",
    "print(first_three_words)"
   ]
  },
  {
   "cell_type": "markdown",
   "metadata": {},
   "source": [
    "And we can add lists together (both in-place and not):"
   ]
  },
  {
   "cell_type": "code",
   "execution_count": 26,
   "metadata": {},
   "outputs": [
    {
     "name": "stdout",
     "output_type": "stream",
     "text": [
      "['Monty', 'Python', 'and', 'the', 'unruly', 'albatross']\n"
     ]
    }
   ],
   "source": [
    "first_three_words += [\"unruly\", \"albatross\"]\n",
    "print(first_three_words)"
   ]
  },
  {
   "cell_type": "markdown",
   "metadata": {},
   "source": [
    "## Exercise:\n",
    "\n",
    "Take the following sentence and reverse the order of the words (without using the [`.reverse()` method](https://docs.python.org/3/tutorial/datastructures.html#more-on-lists), which would be best).  This will be easier with loops once we introduce them in the next notebook..."
   ]
  },
  {
   "cell_type": "code",
   "execution_count": 27,
   "metadata": {},
   "outputs": [],
   "source": [
    "sentence = \"Once upon a time in the West\""
   ]
  },
  {
   "cell_type": "code",
   "execution_count": 28,
   "metadata": {},
   "outputs": [],
   "source": [
    "# Your answer here:"
   ]
  },
  {
   "cell_type": "markdown",
   "metadata": {},
   "source": [
    "## Dictionary lookups\n",
    "\n",
    "Finding attributes within a dictionary, if you know the key, is very fast.  Accessing attributes by key is similar to\n",
    "indexing lists, but instead of providing an index in the square brackets, you provide the key:"
   ]
  },
  {
   "cell_type": "code",
   "execution_count": 29,
   "metadata": {},
   "outputs": [
    {
     "name": "stdout",
     "output_type": "stream",
     "text": [
      "andesite\n"
     ]
    }
   ],
   "source": [
    "rock = {\"type\": \"andesite\", \"age\": \"10\", \"comment\": \"Tastes like fish\"}\n",
    "\n",
    "print(rock[\"type\"])"
   ]
  },
  {
   "cell_type": "code",
   "execution_count": 30,
   "metadata": {},
   "outputs": [
    {
     "name": "stdout",
     "output_type": "stream",
     "text": [
      "Tastes like fish\n"
     ]
    }
   ],
   "source": [
    "print(rock[\"comment\"])"
   ]
  },
  {
   "cell_type": "markdown",
   "metadata": {},
   "source": [
    "We will use dictionaries quite a bit in these modules because they can be really helpful for keeping track of data."
   ]
  },
  {
   "cell_type": "markdown",
   "metadata": {},
   "source": [
    "## Functions\n",
    "\n",
    "In a moment we are going to look at and use a function to get some data, so I wanted to take a moment to introduce the concept.  We will spend more time on this in the next notebook.\n",
    "\n",
    "A core principle of programming is **\"Don't Repeat Yourself\"** (AKA DRY). One way to avoid repeating yourself is to write *functions*. Functions define a set block of code that takes some input and does something with it. Functions often return something, but they don't have to (they don't even need to take any input!).\n",
    "\n",
    "In general, if you write some code that you might want to use more than once, you should make it into a function. The main reasons for this are:\n",
    "1. to reduce your effort (let the machine do the work!), and\n",
    "2. Reduce the risk of doing it wrong! Write it once, write it well and fix any bugs in that one bit of code!\n",
    "\n",
    "Writing functions in Python is nice and easy. The syntax for this is:\n",
    "\n",
    "```python\n",
    "def function_name(arguments):\n",
    "    your_code_here\n",
    "    return output\n",
    "\n",
    "more_code_here  # This isn't part of the function!\n",
    "```\n",
    "\n",
    "The `def` and `return` are keywords that Python understands as the start and end of a function. You don't need the `return` if you do not want to return anything from the function.  The whitespace (four spaces!) defines what content is within the function. You also need the brackets after `function_name` (you can call the function whatever you want - remember variable naming and name functions helpfully!) and the colon at the end of the brackets."
   ]
  },
  {
   "cell_type": "markdown",
   "metadata": {},
   "source": [
    "---\n",
    "\n",
    "# Getting started with some data\n",
    "\n",
    "Now we know something about the basic datatypes in Python, lets play with some Geoscience data.\n",
    "\n",
    "We will produce a plot of some GNSS displacement data from NZ. The adage _a picture is worth a thousand words_ is very true in the world of science (but not so true that it changes your thesis word-count!).\n",
    "\n",
    "A good figure that clearly articulates your data will make your work much easier to understand. Simple is good, but your figures still need to cover the basics of being well-labeled and accurate. Plots are also extremely useful when exploring your data - quickly plotting a few lines and seeing whether they look \"right\" can save you all sorts of tedious work working out where you went wrong.\n",
    "\n",
    "Frequently you will want to make the same, or a very similar plot multiple times. You could do this interactively in a spreadsheet, wasting your life away, making mistakes... (remember DRY), or you could write a little program to make your plots for you!\n",
    "\n",
    "In Python, the main plotting package is `matplotlib`. In this notebook we will introduce some of the basics of data plotting, using some New Zealand GNSS (Global Navigation Satellite System) data from GeoNet.\n",
    "\n",
    "To make our plots work in the section, and be interactive we will use the matplotlib widget (see below). We'll be spending lots more time on different aspects of this process in the later modules, so for the time being some of the Python code may seem a bit intimidating. Here's a simple overview of the steps we're taking:\n",
    "\n",
    "1. Download some data from GeoNet using a function\n",
    "2. Take a quick look at the data to understand what we have\n",
    "3. Plot and annotate the data in a variety of ways using `matplotlib`."
   ]
  },
  {
   "cell_type": "markdown",
   "metadata": {},
   "source": [
    "## Getting some data\n",
    "\n",
    "We will first write a function to get the data we want from GeoNet.  We have adapted this from the\n",
    "[GeoNet tutorial](https://github.com/GeoNet/data-tutorials/blob/master/GNSS_Data/Python/Introduction_to_GNSS_data_using_FITS_in_Python.ipynb). This may seem a bit overwhelming, if you're not familiar with Python or programming yet, but the key points to remember are these:\n",
    "\n",
    "1. The function we're defining, ``get_gnss_for_station()``, encodes a sequence of steps that enable us to automate the process of downloading a specific set of data from a specific source; here, the source is GeoNet\n",
    "2. The block of text in red at the start of the function provides an explanation of what the function does, what inputs it expects, and what outputs it returns\n",
    "3. Once this function is defined, we can use it time and time again - and we don't need to know what it looks like inside.\n",
    "4. In other words, you can skip right over the next block if you like."
   ]
  },
  {
   "cell_type": "code",
   "execution_count": 31,
   "metadata": {},
   "outputs": [],
   "source": [
    "import requests  # This helps with web-requests\n",
    "import datetime  # Python's representation of dates and times.\n",
    "\n",
    "# The following block of code defines a function that we can use\n",
    "# as often as we like to get GNSS data for a particular station\n",
    "\n",
    "\n",
    "def get_gnss_for_station(\n",
    "        station: str,\n",
    "        fits_url: str = \"http://fits.geonet.org.nz/observation\",) -> dict:\n",
    "    \"\"\"\n",
    "    Get GNSS data from GeoNet for the station\n",
    "\n",
    "    Parameters\n",
    "    ----------\n",
    "    station\n",
    "        The name of the station you want to get data for\n",
    "    fits_url\n",
    "        URL of the FITS data service you want to query.\n",
    "\n",
    "    Returns\n",
    "    -------\n",
    "    Dictionary with keys:\n",
    "        time \n",
    "            list of timestamps of observations\n",
    "        north\n",
    "            list of offsets in mm in the north direction\n",
    "        east\n",
    "            list of offsets in mm in the east direction\n",
    "        up          \n",
    "            list of vertical offsets in mm\n",
    "        north_error\n",
    "            list of errors in mm for north\n",
    "        east_error\n",
    "            list of errors in mm for east\n",
    "        up_error\n",
    "            list of erros in mm for up\n",
    "\n",
    "    \"\"\"\n",
    "    # Initialise an empty dictionary that we will append to\n",
    "    out = dict(time=[],\n",
    "               north=[],\n",
    "               east=[],\n",
    "               up=[],\n",
    "               north_error=[],\n",
    "               east_error=[],\n",
    "               up_error=[])\n",
    "    for channel in {\"north\", \"east\", \"up\"}:\n",
    "        parameters = {\"typeID\": channel[0], \"siteID\": station}\n",
    "        response = requests.get(fits_url, params=parameters)\n",
    "        assert response.status_code == 200, \"Bad request\"\n",
    "        payload = response.content.decode(\"utf-8\").split(\"\\n\")\n",
    "        # payload is a csv with header\n",
    "        # This is a list-comprehension, a type of fast, one-line for loop\n",
    "        payload = [p.split(',') for p in payload]\n",
    "        # Check that this is what we expect\n",
    "        assert payload[0][0] == 'date-time', \"Unkown format\"\n",
    "        assert len(payload[0]) == 3, \"Unknown format\"\n",
    "        times, displacements, errors = zip(*[\n",
    "            (datetime.datetime.strptime(p[0], '%Y-%m-%dT%H:%M:%S.%fZ'),\n",
    "             float(p[1]), float(p[2])) for p in payload[1:-1]])\n",
    "        if len(out[\"time\"]) == 0:\n",
    "            out.update({\"time\": times})\n",
    "        else:\n",
    "            assert out[\"time\"] == times, \"Different time sampling for different components.\"\n",
    "        out.update({channel: displacements, f\"{channel}_error\": errors})\n",
    "    return out"
   ]
  },
  {
   "cell_type": "markdown",
   "metadata": {},
   "source": [
    "Right, now we have a way to get some data, lets get some and plot it!\n",
    "\n",
    "We will grab the data from station [PYGR](https://www.geonet.org.nz/data/network/mark/PYGR), because\n",
    "it is in a cool place (Puysegur, in Fiordland) near the plate boundary. We are storing the data in a dictionary called `pygr_data`. In a later notebook we'll look an alternative method of storing the data, known as a dataframe, which provides a lot of extra functionality and convenience."
   ]
  },
  {
   "cell_type": "code",
   "execution_count": 32,
   "metadata": {},
   "outputs": [
    {
     "name": "stdout",
     "output_type": "stream",
     "text": [
      "We have downloaded 5331 samples of data\n"
     ]
    }
   ],
   "source": [
    "pygr_data = get_gnss_for_station(station=\"PYGR\")\n",
    "n_samples = len(pygr_data[\"time\"])\n",
    "print(f\"We have downloaded {n_samples} samples of data\")"
   ]
  },
  {
   "cell_type": "markdown",
   "metadata": {},
   "source": [
    "## Plotting the data with Matplotlib\n",
    "\n",
    "The main Matplotlib objects that we will interface with are the `Figure` and `Axes` objects. A `Figure` contains all the plots (think of it like a page).  Each plot is an `Axes` object and this is where the plotting actually happens.\n",
    "\n",
    "A simple way to start a `matplotlib` plot is to use the `plt.subplots()` function to generate a new `Figure` and `Axes` object.  In a later notebook we will look at more sophisticated methods that enable us to combine multiple plots in a single figure."
   ]
  },
  {
   "cell_type": "code",
   "execution_count": 33,
   "metadata": {},
   "outputs": [
    {
     "name": "stdout",
     "output_type": "stream",
     "text": [
      "Figure(432x288)\n",
      "AxesSubplot(0.125,0.125;0.775x0.755)\n"
     ]
    },
    {
     "data": {
      "image/png": "[encoded data removed]",
      "text/plain": [
       "<Figure size 432x288 with 1 Axes>"
      ]
     },
     "metadata": {
      "needs_background": "light"
     },
     "output_type": "display_data"
    }
   ],
   "source": [
    "import matplotlib.pyplot as plt\n",
    "\n",
    "fig, ax = plt.subplots()\n",
    "print(fig)\n",
    "print(ax)\n",
    "plt.show()"
   ]
  },
  {
   "cell_type": "markdown",
   "metadata": {},
   "source": [
    "This simple figure just consists of some axes.  The next few commands plot some actual data using those axes. We will use the `\"times\"` as our x-values."
   ]
  },
  {
   "cell_type": "code",
   "execution_count": 34,
   "metadata": {},
   "outputs": [],
   "source": [
    "ax.plot(pygr_data[\"time\"], pygr_data[\"north\"])\n",
    "plt.show()"
   ]
  },
  {
   "cell_type": "markdown",
   "metadata": {},
   "source": [
    "There's a big jump in the data! Bonus points for the first one to shout-out what this is... Note that you should be able to zoom into the plot by clicking the square button on the left and selecting a zoom window.\n",
    "\n",
    "This graph is okay, but it doesn't have any labels! What are we plotting!? No-one will ever know.\n",
    "\n",
    "## Labeling\n",
    "\n",
    "Lets fix that..."
   ]
  },
  {
   "cell_type": "code",
   "execution_count": 35,
   "metadata": {},
   "outputs": [
    {
     "data": {
      "image/png": "[encoded data removed]",
      "text/plain": [
       "<Figure size 432x288 with 1 Axes>"
      ]
     },
     "metadata": {
      "needs_background": "light"
     },
     "output_type": "display_data"
    }
   ],
   "source": [
    "fig, ax = plt.subplots()\n",
    "ax.plot(pygr_data[\"time\"], pygr_data[\"north\"],\n",
    "        label=\"North\", color='lightcoral')\n",
    "ax.set_xlabel(\"Date (UTC)\")\n",
    "ax.set_ylabel(\"Offset in mm\")\n",
    "ax.set_title(\"GNSS offsets for PYGR\")\n",
    "ax.legend()\n",
    "plt.show()"
   ]
  },
  {
   "cell_type": "markdown",
   "metadata": {},
   "source": [
    "So what did we do here?\n",
    "\n",
    "1. We added a `label` argument to the call to plot, which attaches a `str` label to our data, and then later made a call to `ax.legend()` to use this label in making the legend;\n",
    "2. We added a label to the x-axis using `ax.set_xlabel`\n",
    "3. Similarly, we added a label to the y-axis using `ax.set_ylabel`\n",
    "4. We added a useful title using `ax.set_title`\n",
    "5. We added a legend - this comes in useful when plotting multiple data on the same graph..."
   ]
  },
  {
   "cell_type": "markdown",
   "metadata": {},
   "source": [
    "## Saving plots\n",
    "\n",
    "So you made a lovely wee plot... Now what? Screenshot? Crikey no!\n",
    "\n",
    "There is that useful little save button on the plots here that let you save your figure, but that's no help if you are making a few hundred figures, you don't want to be clicking a save button for every figure. That's just silly.\n",
    "\n",
    "To save figures programmatically we can use a simple bit of syntax:\n",
    "```python\n",
    "fig.savefig(\"my_figure.png\")\n",
    "```\n",
    "matplotlib knows common file-types for images, so just specifying the file extension means matplotlib will save as that figure type. Win. Some common extensions that you might use are:\n",
    "- `.png` good for rasterised figures\n",
    "- `.jpg` good for internet figures\n",
    "- `.svg` (scalar vector graphics) good if you want to edit your figure later using something like [inkscape](https://inkscape.org/)\n",
    "- `.pdf` handy, text retained as $L^aT_eX$ text.\n",
    "\n",
    "Let's save our figure as a png, you can open it and have a look at it if you want."
   ]
  }
 ],
 "metadata": {
  "kernelspec": {
   "display_name": "Python 3 (ipykernel)",
   "language": "python",
   "name": "python3"
  },
  "language_info": {
   "codemirror_mode": {
    "name": "ipython",
    "version": 3
   },
   "file_extension": ".py",
   "mimetype": "text/x-python",
   "name": "python",
   "nbconvert_exporter": "python",
   "pygments_lexer": "ipython3",
   "version": "3.8.12"
  }
 },
 "nbformat": 4,
 "nbformat_minor": 4
}
