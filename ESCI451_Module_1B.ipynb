{
 "cells": [
  {
   "cell_type": "markdown",
   "metadata": {},
   "source": [
    "# Introduction to Python for Earth Scientists\n",
    "\n",
    "These notebooks have been developed by Calum Chamberlain, Finnigan Illsley-Kemp and John Townend at [Victoria University of Wellington-Te Herenga Waka](https://www.wgtn.ac.nz) for use by Earth Science graduate students. \n",
    "\n",
    "The notebooks cover material that we think will be of particular benefit to those students with little or no previous experience of computer-based data analysis. We presume very little background in command-line or code-based computing, and have compiled this material with an emphasis on general tasks that a grad student might encounter on a daily basis. \n",
    "\n",
    "In 2021, this material will be delivered at the start of Trimester 1 in conjunction with [ESCI451 Active Earth](https://www.wgtn.ac.nz/courses/esci/451/2021/offering?crn=32176). Space and pandemic alert levels permitting, interested students not enrolled in ESCI451 are encouraged to come along too but please contact Calum, Finn, or John first.\n",
    "\n",
    "\n",
    "| Notebook | Contents | Data |\n",
    "| --- | --- | --- |\n",
    "| [1A](ESCI451_Module_1A.ipynb) | Introduction to programming, Python, and Jupyter notebooks | - |\n",
    "| **[1B](ESCI451_Module_1B.ipynb)** | **Basic data types and variables, getting data, and plotting with Matplotlib** | **Geodetic positions** |\n",
    "| [2A](ESCI451_Module_2A.ipynb) | Logic, more complex plotting, introduction to Numpy | Geodetic positions; DFDP-2B temperatures |\n",
    "| [2B](ESCI451_Module_2B.ipynb) | Using Pandas to load, peruse and plot data | Earthquake catalogue  |\n",
    "| [3A](ESCI451_Module_3A.ipynb) | Working with Pandas dataframes | Geochemical data set; earthquake catalogue |\n",
    "| [3B](ESCI451_Module_3B.ipynb) | Simple time series analysis using Pandas | Historical temperature records |\n",
    "| [4A](ESCI451_Module_4A.ipynb) | Making maps with Cartopy | Earthquake catalogue |\n",
    "| [4B](ESCI451_Module_4B.ipynb) | Working with gridded data | DEMs and Ashfall data |\n",
    "\n",
    "\n",
    "The content may change in response to students' questions or current events. Each of the four modules has been designed to take about three hours, with a short break between each of the two parts.\n",
    "\n",
    "This first line of code (below) sets up the notebook for plotting. Run this first!"
   ]
  },
  {
   "cell_type": "code",
   "execution_count": 1,
   "metadata": {},
   "outputs": [],
   "source": [
    "%matplotlib widget"
   ]
  },
  {
   "cell_type": "markdown",
   "metadata": {},
   "source": [
    "# This notebook\n",
    "\n",
    "1. Some essential Python terminology\n",
    "   - Data types\n",
    "   - Variables\n",
    "   - Good ideas for naming variables\n",
    "   - Comments\n",
    "   - Manipulating strings and lists\n",
    "   - Dictionaries\n",
    "2. A first go at downloading and plotting data\n",
    "   - Getting data with a function\n",
    "   - Plotting it with Matplotlib\n",
    "   - Labelling and saving figures\n"
   ]
  },
  {
   "cell_type": "markdown",
   "metadata": {},
   "source": [
    "# Some essential Python terminology\n",
    "\n",
    "## Data types\n",
    "\n",
    "We said that `\"Hello World!\"` was a string (known as `str` in Python, there are a few other data types that you should know about \n",
    "(there are others that we don't need to worry about yet):\n",
    "\n",
    "- `int`: For storing integers, like 1, 4, 999, -2000\n",
    "- `float`: For storing floating-point numbers, like 1.2, -37.473, 42.424242424242 - there is a limit to the precision!\n",
    "- `list`: For storing lists of other objects, written using square-brackets, e.g.: `[1, 2, \"alfred\", 3.2]`, note \n",
    "   that any other data type can be within a list, including another list. The order that you put things into\n",
    "   a `list` is retained.\n",
    "- `set`: Another data type for storing other objects, but this time only unique elements are stored, and order\n",
    "  is not guaranteed. `Set`s are written using curly-brackets, e.g: `{1, 2, \"alfred\", 3.2}`. These can be really\n",
    "  useful for getting a unique set of *things*.\n",
    "- `dict`: A further data type for storing other objects.  In a `dict` (short for dictionary), *values* are stored\n",
    "  associated with some *key* in key: value pairs (e.g. {key: value}).  This is really useful for keeping track of attributes, for example you might have a dictionary to store the attributes associated with an observation like:\n",
    "  `rock = {\"type\": \"andesite\", \"age\": \"10\", \"comment\": \"Tastes like fish\"}`\n",
    "  \n",
    "`print` will take any of these types, convert it to a `str` and print it to screen:"
   ]
  },
  {
   "cell_type": "code",
   "execution_count": 2,
   "metadata": {},
   "outputs": [
    {
     "name": "stdout",
     "output_type": "stream",
     "text": [
      "1\n"
     ]
    }
   ],
   "source": [
    "print(1)"
   ]
  },
  {
   "cell_type": "code",
   "execution_count": 3,
   "metadata": {},
   "outputs": [
    {
     "name": "stdout",
     "output_type": "stream",
     "text": [
      "43.4242\n"
     ]
    }
   ],
   "source": [
    "print(43.4242)"
   ]
  },
  {
   "cell_type": "code",
   "execution_count": 4,
   "metadata": {},
   "outputs": [
    {
     "name": "stdout",
     "output_type": "stream",
     "text": [
      "[1, 2, 'alfred']\n"
     ]
    }
   ],
   "source": [
    "print([1, 2, \"alfred\"])"
   ]
  },
  {
   "cell_type": "code",
   "execution_count": 5,
   "metadata": {},
   "outputs": [
    {
     "name": "stdout",
     "output_type": "stream",
     "text": [
      "{1, 2, 'alfred'}\n"
     ]
    }
   ],
   "source": [
    "# NBVAL_IGNORE_OUTPUT\n",
    "print({1, 2, \"alfred\"})"
   ]
  },
  {
   "cell_type": "code",
   "execution_count": 6,
   "metadata": {},
   "outputs": [
    {
     "name": "stdout",
     "output_type": "stream",
     "text": [
      "{1, 2, 6}\n"
     ]
    }
   ],
   "source": [
    "print({1, 2, 6, 2, 1})"
   ]
  },
  {
   "cell_type": "markdown",
   "metadata": {},
   "source": [
    "Notice that the final print only printed the unique elements of the `set` - only those attributes are stored."
   ]
  },
  {
   "cell_type": "code",
   "execution_count": 7,
   "metadata": {},
   "outputs": [
    {
     "name": "stdout",
     "output_type": "stream",
     "text": [
      "{'type': 'andesite', 'age': '10', 'comment': 'Tastes like fish'}\n"
     ]
    }
   ],
   "source": [
    "rock = {\"type\": \"andesite\", \"age\": \"10\", \"comment\": \"Tastes like fish\"}\n",
    "print(rock)"
   ]
  },
  {
   "cell_type": "markdown",
   "metadata": {},
   "source": [
    "## Variables\n",
    "\n",
    "Programming languages keep track of values using variables. You (the programmer) assign some name to a value, and the computer keeps track of this value in memory.  You can then use this variable later in your code, e.g. you can\n",
    "do some maths! The symbols for doing mathematical operations are:\n",
    "\n",
    "- `+` addition\n",
    "- `-` subtraction\n",
    "- `*` multiplication\n",
    "- `/` division\n",
    "- `**` exponentation\n",
    "\n",
    "Note that division will always return a `float` in Python 3.x."
   ]
  },
  {
   "cell_type": "code",
   "execution_count": 8,
   "metadata": {},
   "outputs": [
    {
     "name": "stdout",
     "output_type": "stream",
     "text": [
      "17\n"
     ]
    }
   ],
   "source": [
    "a = 5\n",
    "b = 12\n",
    "c = a + b\n",
    "print(c)"
   ]
  },
  {
   "cell_type": "markdown",
   "metadata": {},
   "source": [
    "You can also change the value of a variable *in-place* using the following symbols:\n",
    "\n",
    "- `+=` addition in-place\n",
    "- `-=` subtraction in-place\n",
    "- `*=` multiplication in-place\n",
    "- `/=` division in-place\n",
    "- `**=` exponentiation in-place"
   ]
  },
  {
   "cell_type": "code",
   "execution_count": 9,
   "metadata": {},
   "outputs": [
    {
     "name": "stdout",
     "output_type": "stream",
     "text": [
      "8\n"
     ]
    }
   ],
   "source": [
    "d = 5\n",
    "d += 3\n",
    "print(d)"
   ]
  },
  {
   "cell_type": "code",
   "execution_count": 10,
   "metadata": {},
   "outputs": [
    {
     "name": "stdout",
     "output_type": "stream",
     "text": [
      "2.6666666666666665\n"
     ]
    }
   ],
   "source": [
    "d /= 3\n",
    "print(d)"
   ]
  },
  {
   "cell_type": "code",
   "execution_count": 11,
   "metadata": {},
   "outputs": [
    {
     "name": "stdout",
     "output_type": "stream",
     "text": [
      "18.96296296296296\n"
     ]
    }
   ],
   "source": [
    "d **= 3\n",
    "print(d)"
   ]
  },
  {
   "cell_type": "markdown",
   "metadata": {},
   "source": [
    "Note that if you run the above cell again, without re-running from when we first defined d, you will get a different returned value. **Watch out when working in-place on data!**\n",
    "\n",
    "**Exercise:** Now it is your turn. Do some maths! \n",
    "\n",
    "For a seismic station recording at 100 Hz (100 samples per second), work out how many samples are recorded per day, then convert this to GB assuming that each sample is stored as an `int`.\n",
    "\n",
    "We can work out how much memory is used by an `int` in Python by running `sys.getsizeof(int())`."
   ]
  },
  {
   "cell_type": "code",
   "execution_count": 12,
   "metadata": {},
   "outputs": [
    {
     "data": {
      "text/plain": [
       "24"
      ]
     },
     "execution_count": 12,
     "metadata": {},
     "output_type": "execute_result"
    }
   ],
   "source": [
    "import sys\n",
    "\n",
    "sys.getsizeof(int())"
   ]
  },
  {
   "cell_type": "code",
   "execution_count": 13,
   "metadata": {},
   "outputs": [],
   "source": [
    "# Your maths here! Check notebook 1 for some hints on how many seconds are in a day..."
   ]
  },
  {
   "cell_type": "markdown",
   "metadata": {},
   "source": [
    "**Exercise:** Use Python as a calculator - what is the answer to this:\n",
    "\\begin{equation}\n",
    "    \\frac{(a \\times b)^c}{d - e}\n",
    "\\end{equation}\n",
    "where \n",
    "- a is 24, \n",
    "- b is 42, \n",
    "- c is 3, \n",
    "- d is 10 and \n",
    "- e is 15\n",
    "\n",
    "*The Answer is: -204838502.4*"
   ]
  },
  {
   "cell_type": "code",
   "execution_count": 14,
   "metadata": {},
   "outputs": [],
   "source": [
    "# Your answer here"
   ]
  },
  {
   "cell_type": "markdown",
   "metadata": {},
   "source": [
    "## Good ideas for naming variables\n",
    "\n",
    "You should always give your variables useful names. Python doesn't demand this, but it does allow it. You should write\n",
    "your code so that you (both now and in ten years time, as well as other people) can understand it; as \n",
    "[Martin Fowler](https://en.wikiquote.org/wiki/Martin_Fowler) wrote:\n",
    "\n",
    "> Any fool can write code that a computer can understand. Good programmers write code that humans can understand.\n",
    "\n",
    "Hopefully you will note that variable names `a`, `b`, `c`, ... are crap names for variables! Try to use simple\n",
    "but expressive names, e.g. if you have a list of different volcano names, don't call that variable `vn`, nor\n",
    "should you call it `volcano_names_used_in_this_code_with_effusive_eruptions`; just call it `volcano_names`.\n",
    "*If* you need to get into more detail, maybe you should be using more complex data-types, like `dict`s. We will\n",
    "play with some of these later."
   ]
  },
  {
   "cell_type": "markdown",
   "metadata": {},
   "source": [
    "## Comments\n",
    "\n",
    "Ideally you will write code with useful variable names and obvious logic so that you can read an understand your\n",
    "programs as if they were prose. When you find that it is a little harder to understand, you should add comments.\n",
    "\n",
    "Comments are text in your program that are not executed (run), and are just there to help the reader understand\n",
    "what is going on. While you are learning they can be really handy, and people often start code as a series of\n",
    "comments that they then convert into code.\n",
    "\n",
    "Comments in Python start with a `#` character, e.g.:"
   ]
  },
  {
   "cell_type": "code",
   "execution_count": 15,
   "metadata": {},
   "outputs": [
    {
     "name": "stdout",
     "output_type": "stream",
     "text": [
      "Total volume ejected: 35.949999999999996 km^3\n",
      "Average volume per-event: 8.987499999999999 km^3\n"
     ]
    }
   ],
   "source": [
    "# Total volume of material in cubic km\n",
    "volume_ejected_in_units_Z_through_W = [0.1, 35.0, 0.8, 0.05]\n",
    "# sum is a Python function over any iterable\n",
    "total_volume = sum(volume_ejected_in_units_Z_through_W)\n",
    "print(f\"Total volume ejected: {total_volume} km^3\")\n",
    "# len tells you how long an object is\n",
    "n_events = len(volume_ejected_in_units_Z_through_W)\n",
    "average_volume = total_volume / n_events\n",
    "print(f\"Average volume per-event: {average_volume} km^3\")"
   ]
  },
  {
   "cell_type": "markdown",
   "metadata": {},
   "source": [
    "Those values look silly, so lets just print them to two decimal places.\n",
    "\n",
    "You can format floating point numbers in your format string using syntax like:\n",
    "```python\n",
    "print(f\"This is a big number: {big_number:.2f}\")\n",
    "```\n",
    "where the `:.2f` specifies to round a `float` 2 decimal places.  You can change the number (`2`) to get different number of decimal places."
   ]
  },
  {
   "cell_type": "code",
   "execution_count": 16,
   "metadata": {},
   "outputs": [
    {
     "name": "stdout",
     "output_type": "stream",
     "text": [
      "Total volume ejected: 35.95 km^3\n",
      "Average volume per-event: 8.99 km^3\n"
     ]
    }
   ],
   "source": [
    "print(f\"Total volume ejected: {total_volume:.2f} km^3\")\n",
    "print(f\"Average volume per-event: {average_volume:.2f} km^3\")"
   ]
  },
  {
   "cell_type": "markdown",
   "metadata": {},
   "source": [
    "## String manipulation\n",
    "\n",
    "The above example illustrates one way in which strings can be printed. We can do all sorts of fun things with strings, such as adding them together (or, more precisely, \"concatenating\" them):"
   ]
  },
  {
   "cell_type": "code",
   "execution_count": 17,
   "metadata": {},
   "outputs": [
    {
     "name": "stdout",
     "output_type": "stream",
     "text": [
      "Monty Python and the Holy Grail\n"
     ]
    }
   ],
   "source": [
    "sentence_start = \"Monty Python and the \"\n",
    "sentence_end = \"Holy Grail\"\n",
    "sentence = sentence_start + sentence_end\n",
    "print(sentence)"
   ]
  },
  {
   "cell_type": "markdown",
   "metadata": {},
   "source": [
    "Or we can make a list of them and join them together with another string in between:"
   ]
  },
  {
   "cell_type": "code",
   "execution_count": 18,
   "metadata": {},
   "outputs": [
    {
     "name": "stdout",
     "output_type": "stream",
     "text": [
      "Monty Python and the Un-Holy Grail\n"
     ]
    }
   ],
   "source": [
    "sentence = \"Un-\".join([sentence_start, sentence_end])\n",
    "print(sentence)"
   ]
  },
  {
   "cell_type": "markdown",
   "metadata": {},
   "source": [
    "We can operate in-place on strings as well:"
   ]
  },
  {
   "cell_type": "code",
   "execution_count": 19,
   "metadata": {},
   "outputs": [
    {
     "name": "stdout",
     "output_type": "stream",
     "text": [
      "Monty Python and the Holy Grail\n"
     ]
    }
   ],
   "source": [
    "sentence = sentence_start\n",
    "sentence += sentence_end\n",
    "print(sentence)"
   ]
  },
  {
   "cell_type": "markdown",
   "metadata": {},
   "source": [
    "We can make new strings using *format* strings, like we did in the example above. Here we start a string with an `f`, then open\n",
    "quotes to mark the start of a string. Within this, any plain text is interpreted to be a string. Anything within curly\n",
    "brackets (`{}`) is interpreted as a variable name and converted to a string."
   ]
  },
  {
   "cell_type": "code",
   "execution_count": 20,
   "metadata": {},
   "outputs": [
    {
     "name": "stdout",
     "output_type": "stream",
     "text": [
      "Monty Python and the Holy Grail is a rather amusing film\n"
     ]
    }
   ],
   "source": [
    "sentence = f\"{sentence_start}{sentence_end} is a rather amusing film\"\n",
    "print(sentence)"
   ]
  },
  {
   "cell_type": "markdown",
   "metadata": {},
   "source": [
    "There is lots more that you can do with format strings that we don't need to go into yet, but you can find out more\n",
    "[in the Python docs](https://docs.python.org/3.6/reference/lexical_analysis.html#f-strings)."
   ]
  },
  {
   "cell_type": "markdown",
   "metadata": {},
   "source": [
    "## List manipulation"
   ]
  },
  {
   "cell_type": "markdown",
   "metadata": {},
   "source": [
    "Each element of a list can be accessed by its index. In Python, the first element in a list is at\n",
    "index `0`.  This may seem unnecessarily complicated (it is), but you get used to it - and you do need to remember this convention, which differs from some other languages which start at `1`.\n",
    "(The reason for this is to do with the byte-offset from the start of the memory-block containing the list, ... but\n",
    "you don't need to know that and its best to just let the hard-core Python zealots fight over it amongst  themselves.)\n",
    "\n",
    "In any case, say we have a list of 10 elements, indexed as follows:\n",
    "\n",
    "```python\n",
    "some_list = [1, 9, 3, 26, 7, 9, 42, 99, 1000, -2]\n",
    "# indexes:   0  1  2   3  4  5   6   7     8   9\n",
    "```\n",
    "\n",
    "You can also specify the index as the position from the end, in this case, the equivalent indexes are:\n",
    "\n",
    "```python\n",
    "some_list = [1, 9, 3, 26, 7, 9, 42, 99, 1000, -2]\n",
    "# indexes: -10 -9 -8  -7 -6 -5  -4  -3    -2  -1\n",
    "```\n",
    "\n",
    "Lets have a go at manipulating some lists based on their indexes, we will use the `\"Monty Python and the Holy Grail\"` example again."
   ]
  },
  {
   "cell_type": "code",
   "execution_count": 21,
   "metadata": {},
   "outputs": [],
   "source": [
    "sentence = \"Monty Python and the Holy Grail\""
   ]
  },
  {
   "cell_type": "markdown",
   "metadata": {},
   "source": [
    "We can split a string based on any character to get a list of strings:"
   ]
  },
  {
   "cell_type": "code",
   "execution_count": 22,
   "metadata": {},
   "outputs": [
    {
     "name": "stdout",
     "output_type": "stream",
     "text": [
      "['Monty', 'Python', 'and', 'the', 'Holy', 'Grail']\n"
     ]
    }
   ],
   "source": [
    "words = sentence.split(\" \")\n",
    "print(words)"
   ]
  },
  {
   "cell_type": "markdown",
   "metadata": {},
   "source": [
    "We can re-arange by making new lists from parts of the original list"
   ]
  },
  {
   "cell_type": "code",
   "execution_count": 23,
   "metadata": {},
   "outputs": [
    {
     "name": "stdout",
     "output_type": "stream",
     "text": [
      "['Holy', 'Monty']\n"
     ]
    }
   ],
   "source": [
    "sense = [words[-2], words[0]]\n",
    "print(sense)"
   ]
  },
  {
   "cell_type": "markdown",
   "metadata": {},
   "source": [
    "We can add parts of a list together to get a new thing:"
   ]
  },
  {
   "cell_type": "code",
   "execution_count": 24,
   "metadata": {},
   "outputs": [
    {
     "name": "stdout",
     "output_type": "stream",
     "text": [
      "Grailand\n"
     ]
    }
   ],
   "source": [
    "nonsense = words[-1] + words[2]\n",
    "print(nonsense)"
   ]
  },
  {
   "cell_type": "markdown",
   "metadata": {},
   "source": [
    "We can take chunks of the list by *slicing* using the syntax `slicable_object[start:end]` where `start` and `end` are the first and last (+1) indexes we want to access, e.g. we get everything `start <= things < end`:"
   ]
  },
  {
   "cell_type": "code",
   "execution_count": 25,
   "metadata": {},
   "outputs": [
    {
     "name": "stdout",
     "output_type": "stream",
     "text": [
      "['Monty', 'Python', 'and']\n"
     ]
    }
   ],
   "source": [
    "first_three_words = words[0:3]\n",
    "print(first_three_words)"
   ]
  },
  {
   "cell_type": "markdown",
   "metadata": {},
   "source": [
    "We can append values to a list:"
   ]
  },
  {
   "cell_type": "code",
   "execution_count": 26,
   "metadata": {},
   "outputs": [
    {
     "name": "stdout",
     "output_type": "stream",
     "text": [
      "['Monty', 'Python', 'and', 'the']\n"
     ]
    }
   ],
   "source": [
    "first_three_words.append(\"the\")\n",
    "print(first_three_words)"
   ]
  },
  {
   "cell_type": "markdown",
   "metadata": {},
   "source": [
    "And we can add lists together (both in-place and not):"
   ]
  },
  {
   "cell_type": "code",
   "execution_count": 27,
   "metadata": {},
   "outputs": [
    {
     "name": "stdout",
     "output_type": "stream",
     "text": [
      "['Monty', 'Python', 'and', 'the', 'unruly', 'albatross']\n"
     ]
    }
   ],
   "source": [
    "first_three_words += [\"unruly\", \"albatross\"]\n",
    "print(first_three_words)"
   ]
  },
  {
   "cell_type": "markdown",
   "metadata": {},
   "source": [
    "## Exercise:\n",
    "\n",
    "Take the following sentence and reverse the order of the words (without using the [`.reverse()` method](https://docs.python.org/3/tutorial/datastructures.html#more-on-lists), which would be best).  This will be easier with loops once we introduce them in the next notebook..."
   ]
  },
  {
   "cell_type": "code",
   "execution_count": 28,
   "metadata": {},
   "outputs": [],
   "source": [
    "sentence = \"Once upon a time in the West\""
   ]
  },
  {
   "cell_type": "code",
   "execution_count": 29,
   "metadata": {},
   "outputs": [],
   "source": [
    "# Your answer here:"
   ]
  },
  {
   "cell_type": "markdown",
   "metadata": {},
   "source": [
    "## Dictionary lookups\n",
    "\n",
    "Finding attributes within a dictionary, if you know the key, is very fast.  Accessing attributes by key is similar to\n",
    "indexing lists, but instead of providing an index in the square brackets, you provide the key:"
   ]
  },
  {
   "cell_type": "code",
   "execution_count": 30,
   "metadata": {},
   "outputs": [
    {
     "name": "stdout",
     "output_type": "stream",
     "text": [
      "andesite\n"
     ]
    }
   ],
   "source": [
    "rock = {\"type\": \"andesite\", \"age\": \"10\", \"comment\": \"Tastes like fish\"}\n",
    "\n",
    "print(rock[\"type\"])"
   ]
  },
  {
   "cell_type": "code",
   "execution_count": 31,
   "metadata": {},
   "outputs": [
    {
     "name": "stdout",
     "output_type": "stream",
     "text": [
      "Tastes like fish\n"
     ]
    }
   ],
   "source": [
    "print(rock[\"comment\"])"
   ]
  },
  {
   "cell_type": "markdown",
   "metadata": {},
   "source": [
    "We will use dictionaries quite a bit in these modules because they can be really helpful for keeping track of data."
   ]
  },
  {
   "cell_type": "markdown",
   "metadata": {},
   "source": [
    "## Functions\n",
    "\n",
    "In a moment we are going to look at and use a function to get some data, so I wanted to take a moment to introduce the concept.  We will spend more time on this in the next notebook.\n",
    "\n",
    "A core principle of programming is **\"Don't Repeat Yourself\"** (AKA DRY). One way to avoid repeating yourself is to write *functions*. Functions define a set block of code that takes some input and does something with it. Functions often return something, but they don't have to (they don't even need to take any input!).\n",
    "\n",
    "In general, if you write some code that you might want to use more than once, you should make it into a function. The main reasons for this are:\n",
    "1. to reduce your effort (let the machine do the work!), and\n",
    "2. Reduce the risk of doing it wrong! Write it once, write it well and fix any bugs in that one bit of code!\n",
    "\n",
    "Writing functions in Python is nice and easy. The syntax for this is:\n",
    "\n",
    "```python\n",
    "def function_name(arguments):\n",
    "    your_code_here\n",
    "    return output\n",
    "\n",
    "more_code_here  # This isn't part of the function!\n",
    "```\n",
    "\n",
    "The `def` and `return` are keywords that Python understands as the start and end of a function. You don't need the `return` if you do not want to return anything from the function.  The whitespace (four spaces!) defines what content is within the function. You also need the brackets after `function_name` (you can call the function whatever you want - remember variable naming and name functions helpfully!) and the colon at the end of the brackets."
   ]
  },
  {
   "cell_type": "markdown",
   "metadata": {},
   "source": [
    "---\n",
    "\n",
    "# Getting started with some data\n",
    "\n",
    "Now we know something about the basic datatypes in Python, lets play with some Geoscience data.\n",
    "\n",
    "We will produce a plot of some GNSS displacement data from NZ. The adage _a picture is worth a thousand words_ is very true in the world of science (but not so true that it changes your thesis word-count!).\n",
    "\n",
    "A good figure that clearly articulates your data will make your work much easier to understand. Simple is good, but your figures still need to cover the basics of being well-labeled and accurate. Plots are also extremely useful when exploring your data - quickly plotting a few lines and seeing whether they look \"right\" can save you all sorts of tedious work working out where you went wrong.\n",
    "\n",
    "Frequently you will want to make the same, or a very similar plot multiple times. You could do this interactively in a spreadsheet, wasting your life away, making mistakes... (remember DRY), or you could write a little program to make your plots for you!\n",
    "\n",
    "In Python, the main plotting package is `matplotlib`. In this notebook we will introduce some of the basics of data plotting, using some New Zealand GNSS (Global Navigation Satellite System) data from GeoNet.\n",
    "\n",
    "To make our plots work in the section, and be interactive we will use the matplotlib widget (see below). We'll be spending lots more time on different aspects of this process in the later modules, so for the time being some of the Python code may seem a bit intimidating. Here's a simple overview of the steps we're taking:\n",
    "\n",
    "1. Download some data from GeoNet using a function\n",
    "2. Take a quick look at the data to understand what we have\n",
    "3. Plot and annotate the data in a variety of ways using `matplotlib`."
   ]
  },
  {
   "cell_type": "markdown",
   "metadata": {},
   "source": [
    "## Getting some data\n",
    "\n",
    "We will first write a function to get the data we want from GeoNet.  We have adapted this from the\n",
    "[GeoNet tutorial](https://github.com/GeoNet/data-tutorials/blob/master/GNSS_Data/Python/Introduction_to_GNSS_data_using_FITS_in_Python.ipynb). This may seem a bit overwhelming, if you're not familiar with Python or programming yet, but the key points to remember are these:\n",
    "\n",
    "1. The function we're defining, ``get_gnss_for_station()``, encodes a sequence of steps that enable us to automate the process of downloading a specific set of data from a specific source; here, the source is GeoNet\n",
    "2. The block of text in red at the start of the function provides an explanation of what the function does, what inputs it expects, and what outputs it returns\n",
    "3. Once this function is defined, we can use it time and time again - and we don't need to know what it looks like inside.\n",
    "4. In other words, you can skip right over the next block if you like."
   ]
  },
  {
   "cell_type": "code",
   "execution_count": 32,
   "metadata": {},
   "outputs": [],
   "source": [
    "import requests  # This helps with web-requests\n",
    "import datetime  # Python's representation of dates and times.\n",
    "\n",
    "# The following block of code defines a function that we can use\n",
    "# as often as we like to get GNSS data for a particular station\n",
    "\n",
    "\n",
    "def get_gnss_for_station(\n",
    "        station: str,\n",
    "        fits_url: str = \"http://fits.geonet.org.nz/observation\",) -> dict:\n",
    "    \"\"\"\n",
    "    Get GNSS data from GeoNet for the station\n",
    "\n",
    "    Parameters\n",
    "    ----------\n",
    "    station\n",
    "        The name of the station you want to get data for\n",
    "    fits_url\n",
    "        URL of the FITS data service you want to query.\n",
    "\n",
    "    Returns\n",
    "    -------\n",
    "    Dictionary with keys:\n",
    "        time \n",
    "            list of timestamps of observations\n",
    "        north\n",
    "            list of offsets in mm in the north direction\n",
    "        east\n",
    "            list of offsets in mm in the east direction\n",
    "        up          \n",
    "            list of vertical offsets in mm\n",
    "        north_error\n",
    "            list of errors in mm for north\n",
    "        east_error\n",
    "            list of errors in mm for east\n",
    "        up_error\n",
    "            list of erros in mm for up\n",
    "\n",
    "    \"\"\"\n",
    "    # Initialise an empty dictionary that we will append to\n",
    "    out = dict(time=[],\n",
    "               north=[],\n",
    "               east=[],\n",
    "               up=[],\n",
    "               north_error=[],\n",
    "               east_error=[],\n",
    "               up_error=[])\n",
    "    for channel in {\"north\", \"east\", \"up\"}:\n",
    "        parameters = {\"typeID\": channel[0], \"siteID\": station}\n",
    "        response = requests.get(fits_url, params=parameters)\n",
    "        assert response.status_code == 200, \"Bad request\"\n",
    "        payload = response.content.decode(\"utf-8\").split(\"\\n\")\n",
    "        # payload is a csv with header\n",
    "        # This is a list-comprehension, a type of fast, one-line for loop\n",
    "        payload = [p.split(',') for p in payload]\n",
    "        # Check that this is what we expect\n",
    "        assert payload[0][0] == 'date-time', \"Unkown format\"\n",
    "        assert len(payload[0]) == 3, \"Unknown format\"\n",
    "        times, displacements, errors = zip(*[\n",
    "            (datetime.datetime.strptime(p[0], '%Y-%m-%dT%H:%M:%S.%fZ'),\n",
    "             float(p[1]), float(p[2])) for p in payload[1:-1]])\n",
    "        if len(out[\"time\"]) == 0:\n",
    "            out.update({\"time\": times})\n",
    "        else:\n",
    "            assert out[\"time\"] == times, \"Different time sampling for different components.\"\n",
    "        out.update({channel: displacements, f\"{channel}_error\": errors})\n",
    "    return out"
   ]
  },
  {
   "cell_type": "markdown",
   "metadata": {},
   "source": [
    "Right, now we have a way to get some data, lets get some and plot it!\n",
    "\n",
    "We will grab the data from station [PYGR](https://www.geonet.org.nz/data/network/mark/PYGR), because\n",
    "it is in a cool place (Puysegur, in Fiordland) near the plate boundary. We are storing the data in a dictionary called `pygr_data`. In a later notebook we'll look an alternative method of storing the data, known as a dataframe, which provides a lot of extra functionality and convenience."
   ]
  },
  {
   "cell_type": "code",
   "execution_count": 33,
   "metadata": {},
   "outputs": [
    {
     "name": "stdout",
     "output_type": "stream",
     "text": [
      "We have downloaded 5331 samples of data\n"
     ]
    }
   ],
   "source": [
    "pygr_data = get_gnss_for_station(station=\"PYGR\")\n",
    "n_samples = len(pygr_data[\"time\"])\n",
    "print(f\"We have downloaded {n_samples} samples of data\")"
   ]
  },
  {
   "cell_type": "markdown",
   "metadata": {},
   "source": [
    "## Plotting the data with Matplotlib\n",
    "\n",
    "The main Matplotlib objects that we will interface with are the `Figure` and `Axes` objects. A `Figure` contains all the plots (think of it like a page).  Each plot is an `Axes` object and this is where the plotting actually happens.\n",
    "\n",
    "A simple way to start a `matplotlib` plot is to use the `plt.subplots()` function to generate a new `Figure` and `Axes` object.  In a later notebook we will look at more sophisticated methods that enable us to combine multiple plots in a single figure."
   ]
  },
  {
   "cell_type": "code",
   "execution_count": 34,
   "metadata": {},
   "outputs": [
    {
     "name": "stdout",
     "output_type": "stream",
     "text": [
      "Figure(640x480)\n",
      "AxesSubplot(0.125,0.11;0.775x0.77)\n"
     ]
    },
    {
     "data": {
      "application/vnd.jupyter.widget-view+json": {
       "model_id": "c50fae1a30c64a039ad28fab6a7d7419",
       "version_major": 2,
       "version_minor": 0
      },
      "image/png": "[encoded data removed]",
      "text/html": [
       "\n",
       "            <div style=\"display: inline-block;\">\n",
       "                <div class=\"jupyter-widgets widget-label\" style=\"text-align: center;\">\n",
       "                    Figure\n",
       "                </div>\n",
       "                <img src='data:image/png;base64,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' width=640.0/>\n",
       "            </div>\n",
       "        "
      ],
      "text/plain": [
       "Canvas(toolbar=Toolbar(toolitems=[('Home', 'Reset original view', 'home', 'home'), ('Back', 'Back to previous …"
      ]
     },
     "metadata": {},
     "output_type": "display_data"
    }
   ],
   "source": [
    "import matplotlib.pyplot as plt\n",
    "\n",
    "fig, ax = plt.subplots()\n",
    "print(fig)\n",
    "print(ax)\n",
    "plt.show()"
   ]
  },
  {
   "cell_type": "markdown",
   "metadata": {},
   "source": [
    "This simple figure just consists of some axes.  The next few commands plot some actual data using those axes. We will use the `\"times\"` as our x-values."
   ]
  },
  {
   "cell_type": "code",
   "execution_count": 35,
   "metadata": {},
   "outputs": [
    {
     "data": {
      "application/vnd.jupyter.widget-view+json": {
       "model_id": "c50fae1a30c64a039ad28fab6a7d7419",
       "version_major": 2,
       "version_minor": 0
      },
      "image/png": "[encoded data removed]",
      "text/html": [
       "\n",
       "            <div style=\"display: inline-block;\">\n",
       "                <div class=\"jupyter-widgets widget-label\" style=\"text-align: center;\">\n",
       "                    Figure\n",
       "                </div>\n",
       "                <img src='data:image/png;base64,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' width=640.0/>\n",
       "            </div>\n",
       "        "
      ],
      "text/plain": [
       "Canvas(toolbar=Toolbar(toolitems=[('Home', 'Reset original view', 'home', 'home'), ('Back', 'Back to previous …"
      ]
     },
     "metadata": {},
     "output_type": "display_data"
    }
   ],
   "source": [
    "ax.plot(pygr_data[\"time\"], pygr_data[\"north\"])\n",
    "plt.show()"
   ]
  },
  {
   "cell_type": "markdown",
   "metadata": {},
   "source": [
    "There's a big jump in the data! Bonus points for the first one to shout-out what this is... Note that you should be able to zoom into the plot by clicking the square button on the left and selecting a zoom window.\n",
    "\n",
    "This graph is okay, but it doesn't have any labels! What are we plotting!? No-one will ever know.\n",
    "\n",
    "## Labeling\n",
    "\n",
    "Lets fix that..."
   ]
  },
  {
   "cell_type": "code",
   "execution_count": 36,
   "metadata": {},
   "outputs": [
    {
     "data": {
      "application/vnd.jupyter.widget-view+json": {
       "model_id": "23f4102df07c457a9bea9d005c2da8ad",
       "version_major": 2,
       "version_minor": 0
      },
      "image/png": "[encoded data removed]",
      "text/html": [
       "\n",
       "            <div style=\"display: inline-block;\">\n",
       "                <div class=\"jupyter-widgets widget-label\" style=\"text-align: center;\">\n",
       "                    Figure\n",
       "                </div>\n",
       "                <img src='data:image/png;base64,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' width=640.0/>\n",
       "            </div>\n",
       "        "
      ],
      "text/plain": [
       "Canvas(toolbar=Toolbar(toolitems=[('Home', 'Reset original view', 'home', 'home'), ('Back', 'Back to previous …"
      ]
     },
     "metadata": {},
     "output_type": "display_data"
    }
   ],
   "source": [
    "fig, ax = plt.subplots()\n",
    "ax.plot(pygr_data[\"time\"], pygr_data[\"north\"],\n",
    "        label=\"North\", color='lightcoral')\n",
    "ax.set_xlabel(\"Date (UTC)\")\n",
    "ax.set_ylabel(\"Offset in mm\")\n",
    "ax.set_title(\"GNSS offsets for PYGR\")\n",
    "ax.legend()\n",
    "plt.show()"
   ]
  },
  {
   "cell_type": "markdown",
   "metadata": {},
   "source": [
    "So what did we do here?\n",
    "\n",
    "1. We added a `label` argument to the call to plot, which attaches a `str` label to our data, and then later made a call to `ax.legend()` to use this label in making the legend;\n",
    "2. We added a label to the x-axis using `ax.set_xlabel`\n",
    "3. Similarly, we added a label to the y-axis using `ax.set_ylabel`\n",
    "4. We added a useful title using `ax.set_title`\n",
    "5. We added a legend - this comes in useful when plotting multiple data on the same graph..."
   ]
  },
  {
   "cell_type": "markdown",
   "metadata": {},
   "source": [
    "## Saving plots\n",
    "\n",
    "So you made a lovely wee plot... Now what? Screenshot? Crikey no!\n",
    "\n",
    "There is that useful little save button on the plots here that let you save your figure, but that's no help if you are making a few hundred figures, you don't want to be clicking a save button for every figure. That's just silly.\n",
    "\n",
    "To save figures programmatically we can use a simple bit of syntax:\n",
    "```python\n",
    "fig.savefig(\"my_figure.png\")\n",
    "```\n",
    "matplotlib knows common file-types for images, so just specifying the file extension means matplotlib will save as that figure type. Win. Some common extensions that you might use are:\n",
    "- `.png` good for rasterised figures\n",
    "- `.jpg` good for internet figures\n",
    "- `.svg` (scalar vector graphics) good if you want to edit your figure later using something like [inkscape](https://inkscape.org/)\n",
    "- `.pdf` handy, text retained as $L^aT_eX$ text.\n",
    "\n",
    "Let's save our figure as a png, you can open it and have a look at it if you want."
   ]
  }
 ],
 "metadata": {
  "kernelspec": {
   "display_name": "Python 3 (ipykernel)",
   "language": "python",
   "name": "python3"
  },
  "language_info": {
   "codemirror_mode": {
    "name": "ipython",
    "version": 3
   },
   "file_extension": ".py",
   "mimetype": "text/x-python",
   "name": "python",
   "nbconvert_exporter": "python",
   "pygments_lexer": "ipython3",
   "version": "3.8.12"
  }
 },
 "nbformat": 4,
 "nbformat_minor": 4
}
