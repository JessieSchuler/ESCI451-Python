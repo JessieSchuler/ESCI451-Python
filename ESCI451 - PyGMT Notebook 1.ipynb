{
 "cells": [
  {
   "cell_type": "markdown",
   "id": "7ca1bb9a",
   "metadata": {},
   "source": [
    "# Basic Map Making"
   ]
  },
  {
   "cell_type": "markdown",
   "id": "7c302fc2",
   "metadata": {},
   "source": [
    "First off let's import PyGMT"
   ]
  },
  {
   "cell_type": "code",
   "execution_count": null,
   "id": "cb74e76e",
   "metadata": {},
   "outputs": [],
   "source": [
    "import pygmt"
   ]
  },
  {
   "cell_type": "markdown",
   "id": "37a97dee",
   "metadata": {},
   "source": [
    "Figures are generated in PyGMT with the `pygmt.Figure` class. We can start a new figure by creating an instance of this class:"
   ]
  },
  {
   "cell_type": "code",
   "execution_count": null,
   "id": "966d10dd",
   "metadata": {},
   "outputs": [],
   "source": [
    "fig = pygmt.Figure()"
   ]
  },
  {
   "cell_type": "markdown",
   "id": "6f34787a",
   "metadata": {},
   "source": [
    "Now we want to add objects into this figure. Let's start by plotting some coastlines with the module `coast`.\n",
    "\n",
    "First, we need to define the geographical region we want to plot. This can be passed as a list to the `region` parameter of `coast`. Let's stay at home and plot New Zealand:"
   ]
  },
  {
   "cell_type": "code",
   "execution_count": null,
   "id": "5ea399b2",
   "metadata": {},
   "outputs": [],
   "source": [
    "fig.coast(region=[165,179,-49,-34], shorelines=True)"
   ]
  },
  {
   "cell_type": "markdown",
   "id": "a2ec71eb",
   "metadata": {},
   "source": [
    "Now let's take a look:"
   ]
  },
  {
   "cell_type": "code",
   "execution_count": null,
   "id": "4156f902",
   "metadata": {},
   "outputs": [],
   "source": [
    "fig.show()"
   ]
  },
  {
   "cell_type": "markdown",
   "id": "79b46d43",
   "metadata": {},
   "source": [
    "That's looking pretty good. Now let's try adding some colour:"
   ]
  },
  {
   "cell_type": "code",
   "execution_count": null,
   "id": "bd6a4078",
   "metadata": {},
   "outputs": [],
   "source": [
    "fig=pygmt.Figure()\n",
    "fig.coast(region=[165,179,-49,-34], shorelines=True, land='lightgreen',water='darkblue')\n",
    "fig.show()"
   ]
  },
  {
   "cell_type": "markdown",
   "id": "b653c74c",
   "metadata": {},
   "source": [
    "PyGMT can be given colour in multiple forms. There are preset [colour codes](https://docs.generic-mapping-tools.org/latest/gmtcolors.html) and you can also give it an RGB code (e.g. Red will be `255/0/0`). Try plotting some funky colours."
   ]
  },
  {
   "cell_type": "markdown",
   "id": "cd43f374",
   "metadata": {},
   "source": [
    "As with any map, we also need to think about the map projection, particularly when plotting large areas. PyGMT supports multiple types of projection using the `projection` parameter. Have a look at the available types in the [projection gallery](https://www.pygmt.org/dev/projections/index.html).\n",
    "\n",
    "We also use the `projection` parameter to set the width of our figure, for example `10c` means our figure will be 10cm wide. Let's try a few different projections out:"
   ]
  },
  {
   "cell_type": "code",
   "execution_count": null,
   "id": "c0cc02f9",
   "metadata": {},
   "outputs": [],
   "source": [
    "fig=pygmt.Figure()\n",
    "fig.coast(region=[165,179,-49,-34],\n",
    "          shorelines=True,\n",
    "          land='lightgreen',\n",
    "          water='lightblue',\n",
    "          projection='M10c')\n",
    "fig.show()"
   ]
  },
  {
   "cell_type": "markdown",
   "id": "27241dea",
   "metadata": {},
   "source": [
    "This is a Mercator projection, which is pretty commonly used. Try changing it to a [Cassini Cylindrical](https://www.pygmt.org/dev/projections/cyl/cyl_cassini.html#sphx-glr-projections-cyl-cyl-cassini-py) projection"
   ]
  },
  {
   "cell_type": "markdown",
   "id": "8ce11576",
   "metadata": {},
   "source": [
    "Now I'm sure you're thinking we need some axes labels on that plot! We can do this using the `frame` parameter, this has various options within it:"
   ]
  },
  {
   "cell_type": "code",
   "execution_count": null,
   "id": "37f4be87",
   "metadata": {},
   "outputs": [],
   "source": [
    "fig=pygmt.Figure()\n",
    "fig.coast(region=[165,179,-49,-34],\n",
    "          shorelines=True,\n",
    "          land='lightgreen',\n",
    "          water='lightblue',\n",
    "          projection='M10c',\n",
    "          frame=['WSne','xa2f1','ya2f1'])\n",
    "fig.show()"
   ]
  },
  {
   "cell_type": "markdown",
   "id": "687ad90f",
   "metadata": {},
   "source": [
    "We gave the `frame` parameter three options. The first `'WSne'` selects which axes to plot and which to label. Uppercase letters are labelled, lowercase are not. The second and third option specify the tickmarks for each axis, `'xa2f1'` means we want a label every 2 units (in this case Longitude degrees), and a tick mark every 1 unit. Try changing these and see what happens."
   ]
  },
  {
   "cell_type": "markdown",
   "id": "3dce0df1",
   "metadata": {},
   "source": [
    "We can also change various parameters about how our map looks using `pygmt.config`. Personally I like to use decimal degrees and a more simple map design. A full list of configuration options can be found [here](https://docs.generic-mapping-tools.org/latest/gmt.conf.html). Here we make these two simple changes:"
   ]
  },
  {
   "cell_type": "code",
   "execution_count": null,
   "id": "6fbdad7e",
   "metadata": {},
   "outputs": [],
   "source": [
    "fig=pygmt.Figure()\n",
    "pygmt.config(MAP_FRAME_TYPE='plain', FORMAT_GEO_MAP='ddd.xx')\n",
    "fig.coast(region=[165,179,-49,-34],\n",
    "          shorelines=True,\n",
    "          land='lightgreen',\n",
    "          water='lightblue',\n",
    "          projection='M10c',\n",
    "          frame=['WSne','xa2f1','ya2f1'])\n",
    "fig.show()"
   ]
  },
  {
   "cell_type": "markdown",
   "id": "17fed061",
   "metadata": {},
   "source": [
    "Lush! Now try and make a new map of somewhere in the world you find interesting..."
   ]
  },
  {
   "cell_type": "code",
   "execution_count": null,
   "id": "616e7728",
   "metadata": {},
   "outputs": [],
   "source": [
    "# Your answer here!"
   ]
  },
  {
   "cell_type": "markdown",
   "id": "2da2bf75",
   "metadata": {},
   "source": [
    "# Plotting Topography"
   ]
  },
  {
   "cell_type": "markdown",
   "id": "abc1dd88",
   "metadata": {},
   "source": [
    "Ok so now we've got the basics we can begin to dive into the real power of PyGMT.\n",
    "\n",
    "First let's zoom into Wellington:"
   ]
  },
  {
   "cell_type": "code",
   "execution_count": null,
   "id": "851a6b18",
   "metadata": {},
   "outputs": [],
   "source": [
    "fig=pygmt.Figure()\n",
    "pygmt.config(MAP_FRAME_TYPE='plain', FORMAT_GEO_MAP='ddd.xx')\n",
    "fig.coast(region=[174.5,175,-41.5,-41],\n",
    "          shorelines=True,\n",
    "          land='lightgreen',\n",
    "          water='lightblue',\n",
    "          projection='M10c',\n",
    "          frame=['WSne','xa0.2f0.1','ya0.2f0.1'])\n",
    "fig.show()"
   ]
  },
  {
   "cell_type": "markdown",
   "id": "fe2803e4",
   "metadata": {},
   "source": [
    "Notice how we changed the `region` and the `frame` parameters. Zoom in a little more if you want.\n",
    "\n",
    "Now, everyone knows that Wellington is nothing without it's hills, so let's try plotting some topography using a Digital Elevation Model (DEM).\n",
    "\n",
    "PyGMT has some preloaded DEMs which we can call very easily using `pygmt.datasets.load_earth_relief`, all we need to give it is the geographic region we're interested in and the resolution. You can see the full list of resolutions [here](https://www.generic-mapping-tools.org/remote-datasets/earth-relief.html), but for now we'll stay relatively coarse:"
   ]
  },
  {
   "cell_type": "code",
   "execution_count": null,
   "id": "9de6ed65",
   "metadata": {},
   "outputs": [],
   "source": [
    "DEM = pygmt.datasets.load_earth_relief(resolution='15s', region=[174.5,175,-41.5,-41])\n",
    "\n",
    "fig=pygmt.Figure()\n",
    "pygmt.config(MAP_FRAME_TYPE='plain', FORMAT_GEO_MAP='ddd.xx')\n",
    "fig.grdimage(grid=DEM)\n",
    "fig.show()"
   ]
  },
  {
   "cell_type": "markdown",
   "id": "d36cdadf",
   "metadata": {},
   "source": [
    "Here we've used `grdimage` to plot our DEM. It looks kinda weird and it's quite hard to tell that it's Wellington! Let's improve this by adding a frame and then plotting our coastline on top:"
   ]
  },
  {
   "cell_type": "code",
   "execution_count": null,
   "id": "8cb40813",
   "metadata": {},
   "outputs": [],
   "source": [
    "DEM = pygmt.datasets.load_earth_relief(resolution='15s', region=[174.5,175,-41.5,-41])\n",
    "\n",
    "fig=pygmt.Figure()\n",
    "pygmt.config(MAP_FRAME_TYPE='plain', FORMAT_GEO_MAP='ddd.xx')\n",
    "fig.grdimage(grid=DEM,\n",
    "             projection='M10c', \n",
    "             frame=['WSne','xa0.2f0.1','ya0.2f0.1'])\n",
    "fig.coast(shorelines=True)\n",
    "fig.show()"
   ]
  },
  {
   "cell_type": "markdown",
   "id": "b64ebecc",
   "metadata": {},
   "source": [
    "There's a few things to take note of here. Firstly, see how we only need to define our region and projection once? Then also notice that we're not assigning a colour to `land` or `water` in the `coast` module. Try adding this in, you should see that it will cover up our DEM. This is because PyGMT builds up figures with layers, so the DEM is hidden underneath the coloured `land` or `water`"
   ]
  },
  {
   "cell_type": "markdown",
   "id": "e0a1f26c",
   "metadata": {},
   "source": [
    "Do you think that's a sensible colour scale to be using for topography? PyGMT has a whole bunch of [preset colour scales](https://docs.generic-mapping-tools.org/latest/cookbook/cpts.html) we can use. Take a look and pick something better and pass it to the `cmap` parameter in `grdimage` like this:"
   ]
  },
  {
   "cell_type": "code",
   "execution_count": null,
   "id": "7344c1e0",
   "metadata": {},
   "outputs": [],
   "source": [
    "DEM = pygmt.datasets.load_earth_relief(resolution='15s', region=[174.5,175,-41.5,-41])\n",
    "\n",
    "fig=pygmt.Figure()\n",
    "pygmt.config(MAP_FRAME_TYPE='plain', FORMAT_GEO_MAP='ddd.xx')\n",
    "fig.grdimage(grid=DEM,\n",
    "             projection='M10c', \n",
    "             frame=['WSne','xa0.2f0.1','ya0.2f0.1'],\n",
    "             cmap='geo')\n",
    "fig.coast(shorelines=True)\n",
    "fig.show()"
   ]
  },
  {
   "cell_type": "markdown",
   "id": "9a064e26",
   "metadata": {},
   "source": [
    "And with any colour scale we need a colour bar. This is plotted using the `colorbar` module:"
   ]
  },
  {
   "cell_type": "code",
   "execution_count": null,
   "id": "308c7aca",
   "metadata": {},
   "outputs": [],
   "source": [
    "DEM = pygmt.datasets.load_earth_relief(resolution='15s', region=[174.5,175,-41.5,-41])\n",
    "\n",
    "fig=pygmt.Figure()\n",
    "pygmt.config(MAP_FRAME_TYPE='plain', FORMAT_GEO_MAP='ddd.xx')\n",
    "fig.grdimage(grid=DEM,\n",
    "             projection='M10c', \n",
    "             frame=['WSne','xa0.2f0.1','ya0.2f0.1'],\n",
    "             cmap='geo')\n",
    "fig.coast(shorelines=True)\n",
    "fig.colorbar(frame=[\"a200f100\", \"x+lElevation\", \"y+lm\"],\n",
    "             position='JRM')\n",
    "fig.show()"
   ]
  },
  {
   "cell_type": "markdown",
   "id": "ac02e7a8",
   "metadata": {},
   "source": [
    "This is starting to look good, but it's a little 8-bit. Let's up the resolution:"
   ]
  },
  {
   "cell_type": "code",
   "execution_count": null,
   "id": "0e6e9b51",
   "metadata": {},
   "outputs": [],
   "source": [
    "DEM = pygmt.datasets.load_earth_relief(resolution='01s', region=[174.5,175,-41.5,-41])\n",
    "\n",
    "fig=pygmt.Figure()\n",
    "pygmt.config(MAP_FRAME_TYPE='plain', FORMAT_GEO_MAP='ddd.xx')\n",
    "fig.grdimage(grid=DEM,\n",
    "             projection='M10c', \n",
    "             frame=['WSne','xa0.2f0.1','ya0.2f0.1'],\n",
    "             cmap='geo')\n",
    "fig.coast(shorelines=True)\n",
    "fig.colorbar(frame=[\"a200f100\", \"x+lElevation\", \"y+lm\"],\n",
    "             position='JRM')\n",
    "fig.show()"
   ]
  },
  {
   "cell_type": "markdown",
   "id": "1103db51",
   "metadata": {},
   "source": [
    "Our topography looks fantastic, but do you notice how the bathymetry near the coastline looks a bit weird? This is because the bathymetry DEM is lower resolution than our topography DEM. So unless we can find some better bathymetry data, it's probably better if we just colour in the ocean with the `coast` module:"
   ]
  },
  {
   "cell_type": "code",
   "execution_count": null,
   "id": "ce8032d4",
   "metadata": {},
   "outputs": [],
   "source": [
    "DEM = pygmt.datasets.load_earth_relief(resolution='01s', region=[174.5,175,-41.5,-41])\n",
    "\n",
    "fig=pygmt.Figure()\n",
    "pygmt.config(MAP_FRAME_TYPE='plain', FORMAT_GEO_MAP='ddd.xx')\n",
    "fig.grdimage(grid=DEM,\n",
    "             projection='M10c', \n",
    "             frame=['WSne','xa0.2f0.1','ya0.2f0.1'],\n",
    "             cmap='geo')\n",
    "fig.coast(shorelines=True,\n",
    "          water='lightblue')\n",
    "fig.colorbar(frame=[\"a200f100\", \"x+lElevation\", \"y+lm\"],\n",
    "             position='JRM')\n",
    "fig.show()"
   ]
  },
  {
   "cell_type": "markdown",
   "id": "55c1c33b",
   "metadata": {},
   "source": [
    "Now one more thing to add to our map, is some hillshade. This has the effect of highlighting topographic features. We can create this using the `grdgradient` module. This simulates a light source (e.g. the sun) and the shade that this would create. Let's try and recreate sunset with a light source due West at 50 degrees from the horizon and then plot it with the `shading` parameter in `grdimage`:"
   ]
  },
  {
   "cell_type": "code",
   "execution_count": null,
   "id": "24fb33ed",
   "metadata": {},
   "outputs": [],
   "source": [
    "DEM = pygmt.datasets.load_earth_relief(resolution='01s', region=[174.5,175,-41.5,-41])\n",
    "hillshade = pygmt.grdgradient(grid=DEM, radiance=[270,50])\n",
    "\n",
    "fig=pygmt.Figure()\n",
    "pygmt.config(MAP_FRAME_TYPE='plain', FORMAT_GEO_MAP='ddd.xx')\n",
    "fig.grdimage(grid=DEM,\n",
    "             projection='M10c', \n",
    "             frame=['WSne','xa0.2f0.1','ya0.2f0.1'],\n",
    "             cmap='geo',\n",
    "             shading=hillshade)\n",
    "fig.coast(shorelines=True,\n",
    "          water='lightblue')\n",
    "fig.colorbar(frame=[\"a200f100\", \"x+lElevation\", \"y+lm\"],\n",
    "             position='JRM')\n",
    "fig.show()"
   ]
  },
  {
   "cell_type": "markdown",
   "id": "87e7bf07",
   "metadata": {},
   "source": [
    "Check out that fault!"
   ]
  },
  {
   "cell_type": "markdown",
   "id": "87591376",
   "metadata": {},
   "source": [
    "# Plotting Data"
   ]
  },
  {
   "cell_type": "markdown",
   "id": "cc25691f",
   "metadata": {},
   "source": [
    "Where PyGMT really come's into its own is plotting geographical data. Let's plot the North Island and a circle at our current location.\n",
    "\n",
    "To do this we'll use the `plot` module, and the coordinates of the Cotton Building.\n",
    "\n",
    "The `style` parameter controls the size and shape of the symbol. Here `c0.5c` plots a circle that is 0.5 cm wide, the 14 geometric symbols are listed [here](https://www.pygmt.org/dev/gallery/symbols/basic_symbols.html#sphx-glr-gallery-symbols-basic-symbols-py)."
   ]
  },
  {
   "cell_type": "code",
   "execution_count": null,
   "id": "c4773243",
   "metadata": {},
   "outputs": [],
   "source": [
    "fig=pygmt.Figure()\n",
    "pygmt.config(MAP_FRAME_TYPE='plain', FORMAT_GEO_MAP='ddd.xx')\n",
    "fig.coast(region=[173,179,-42,-36],\n",
    "          shorelines=True,\n",
    "          land='lightgreen',\n",
    "          water='lightblue',\n",
    "          projection='M10c',\n",
    "          frame=['WSne','xa2f1','ya2f1'])\n",
    "fig.plot(x=174.768, y=-41.29, style='c0.5c', color='red', pen='black')\n",
    "fig.show()"
   ]
  },
  {
   "cell_type": "markdown",
   "id": "3958899e",
   "metadata": {},
   "source": [
    "Now we can take advantage of both python and PyGMT. Let's use a previous downloading tool to get earthquake location information from GeoNet:"
   ]
  },
  {
   "cell_type": "code",
   "execution_count": null,
   "id": "c746a939",
   "metadata": {},
   "outputs": [],
   "source": [
    "from helpers.get_data import get_geonet_quakes\n",
    "# We also need to import datetime to specify start and end times for the download\n",
    "import datetime\n",
    "\n",
    "earthquakes = get_geonet_quakes(\n",
    "    min_latitude=-42, max_latitude=-36, min_longitude=173, max_longitude=179,\n",
    "    start_time=datetime.datetime(2020, 1, 1), end_time=datetime.datetime(2022, 1, 1))\n",
    "print(f\"You downloaded {len(earthquakes)} events\")"
   ]
  },
  {
   "cell_type": "markdown",
   "id": "6e735794",
   "metadata": {},
   "source": [
    "Now let's plot those earthquakes..."
   ]
  },
  {
   "cell_type": "code",
   "execution_count": null,
   "id": "13368fb1",
   "metadata": {},
   "outputs": [],
   "source": [
    "fig=pygmt.Figure()\n",
    "pygmt.config(MAP_FRAME_TYPE='plain', FORMAT_GEO_MAP='ddd.xx')\n",
    "fig.coast(region=[173,179,-42,-36],\n",
    "          shorelines=True,\n",
    "          land='lightgreen',\n",
    "          water='lightblue',\n",
    "          projection='M10c',\n",
    "          frame=['WSne','xa2f1','ya2f1'])\n",
    "fig.plot(x=earthquakes['longitude'],\n",
    "         y=earthquakes['latitude'],\n",
    "         style='c0.5c', color='red', pen='black')\n",
    "fig.show()"
   ]
  },
  {
   "cell_type": "markdown",
   "id": "096262df",
   "metadata": {},
   "source": [
    "Ok, now that looks a bit silly. We need to scale these earthquakes by their magnitude. Luckily this is very easy to do:"
   ]
  },
  {
   "cell_type": "code",
   "execution_count": null,
   "id": "4b79ec96",
   "metadata": {},
   "outputs": [],
   "source": [
    "fig=pygmt.Figure()\n",
    "pygmt.config(MAP_FRAME_TYPE='plain', FORMAT_GEO_MAP='ddd.xx')\n",
    "fig.coast(region=[173,179,-42,-36],\n",
    "          shorelines=True,\n",
    "          land='lightgreen',\n",
    "          water='lightblue',\n",
    "          projection='M10c',\n",
    "          frame=['WSne','xa2f1','ya2f1'])\n",
    "fig.plot(x=earthquakes['longitude'],\n",
    "         y=earthquakes['latitude'],\n",
    "         size=0.02 * (2**earthquakes['magnitude']),\n",
    "         style='cc', color='red', pen='black')\n",
    "fig.show()"
   ]
  },
  {
   "cell_type": "markdown",
   "id": "30a032d5",
   "metadata": {},
   "source": [
    "That's looking much better. See how we now use the `size` parameter in `plot` and pass it the magnitude values. Because magnitudes are a logratihmic scale we then scaled these values with a power law."
   ]
  },
  {
   "cell_type": "markdown",
   "id": "bdadcb18",
   "metadata": {},
   "source": [
    "The seismicity under the North Island has a large three-dimensional distribution. Have a look at minimum and maximum earthquake depths in our catalogue using `min` and `max`..."
   ]
  },
  {
   "cell_type": "code",
   "execution_count": null,
   "id": "1ae78f99",
   "metadata": {},
   "outputs": [],
   "source": []
  },
  {
   "cell_type": "markdown",
   "id": "92d5584c",
   "metadata": {},
   "source": [
    "Why don't we try displaying this depth information in our map? Rather than colouring all of these earthquakes red, we can colour them depending on their depth. To do this we're going to make a new colour scale using the `makecpt` module:"
   ]
  },
  {
   "cell_type": "code",
   "execution_count": null,
   "id": "c8b254c8",
   "metadata": {},
   "outputs": [],
   "source": [
    "fig=pygmt.Figure()\n",
    "pygmt.config(MAP_FRAME_TYPE='plain', FORMAT_GEO_MAP='ddd.xx')\n",
    "pygmt.makecpt(cmap='lajolla', series=[earthquakes['depth'].min(), earthquakes['depth'].max()])\n",
    "\n",
    "fig.coast(region=[173,179,-42,-36],\n",
    "          shorelines=True,\n",
    "          land='lightgreen',\n",
    "          water='lightblue',\n",
    "          projection='M10c',\n",
    "          frame=['WSne','xa2f1','ya2f1'])\n",
    "fig.plot(x=earthquakes['longitude'],\n",
    "         y=earthquakes['latitude'],\n",
    "         size=0.02 * (2**earthquakes['magnitude']),\n",
    "         color=earthquakes['depth'],\n",
    "         cmap=True,\n",
    "         style='cc', pen='black')\n",
    "fig.colorbar(frame='af+l\"Depth (km)\"') # We add a label to our colour scale with +l\n",
    "fig.show()"
   ]
  },
  {
   "cell_type": "markdown",
   "id": "c414c1bd",
   "metadata": {},
   "source": [
    "That's looking pretty good, and we can see that the earthquakes tend to be getting deeper towards the northwest, this is because of the subduction zone. If we really want to look at this we should make a cross section. This is the final thing we're going to learn to do in this session."
   ]
  },
  {
   "cell_type": "markdown",
   "id": "99712f6d",
   "metadata": {},
   "source": [
    "To make a cross section we take advantage of the `project` module. For this we need to define the line of projection with a `center`, `azimuth`, `length` and `width`"
   ]
  },
  {
   "cell_type": "markdown",
   "id": "ff2bebb2",
   "metadata": {},
   "source": [
    "We will first want to select a cross section that is roughly perpendicular to the subduction zone. We can use `project` in `generate` mode to plot the line of cross section.\n",
    "\n",
    "Here we define the `center` as roughly the middle of the North Island, `[176,-39]`, an `azimuth` that is perpendicular to the subduction zone, `135`, and a `length` that goes 100 km to the northwest, and 200 km to the southeast. We then use the `generate` parameter to calculate a point every 10 km along that line:"
   ]
  },
  {
   "cell_type": "code",
   "execution_count": null,
   "id": "85bd9127",
   "metadata": {},
   "outputs": [],
   "source": [
    "fig=pygmt.Figure()\n",
    "pygmt.config(MAP_FRAME_TYPE='plain', FORMAT_GEO_MAP='ddd.xx')\n",
    "pygmt.makecpt(cmap='lajolla', series=[earthquakes['depth'].min(), earthquakes['depth'].max()])\n",
    "\n",
    "fig.coast(region=[173,179,-42,-36],\n",
    "          shorelines=True,\n",
    "          land='lightgreen',\n",
    "          water='lightblue',\n",
    "          projection='M10c',\n",
    "          frame=['WSne','xa2f1','ya2f1'])\n",
    "fig.plot(x=earthquakes['longitude'],\n",
    "         y=earthquakes['latitude'],\n",
    "         size=0.02 * (2**earthquakes['magnitude']),\n",
    "         color=earthquakes['depth'],\n",
    "         cmap=True,\n",
    "         style='cc', pen='black')\n",
    "fig.colorbar(frame='af+l\"Depth (km)\"') # We add a label to our colour scale with +l\n",
    "\n",
    "section_line = pygmt.project(center=[176,-39], azimuth=135, length=[-100, 200], unit=True, generate=10)\n",
    "fig.plot(x=section_line['r'],\n",
    "         y=section_line['s'],\n",
    "         pen=\"3p,-\")\n",
    "\n",
    "fig.show()"
   ]
  },
  {
   "cell_type": "code",
   "execution_count": null,
   "id": "06f9d220",
   "metadata": {},
   "outputs": [],
   "source": [
    "projected_earthquakes = pygmt.project(data=earthquakes[['longitude','latitude','depth','magnitude']],\n",
    "                             azimuth=135,\n",
    "                             center=[176,-39],\n",
    "                             length=[-100,200],\n",
    "                             width='-100/100',\n",
    "                             convention='pz',\n",
    "                             unit=True)\n",
    "projected_earthquakes.columns = ['distance','depth','magnitude']"
   ]
  },
  {
   "cell_type": "markdown",
   "id": "bbea8458",
   "metadata": {},
   "source": [
    "Now if you have a look at this new datafame `projected_earthquakes` you will see that it has three columns. This is all we need for plotting our cross section"
   ]
  },
  {
   "cell_type": "code",
   "execution_count": null,
   "id": "09c3bfe9",
   "metadata": {},
   "outputs": [],
   "source": [
    "### Look at the new dataframe here"
   ]
  },
  {
   "cell_type": "markdown",
   "id": "ed908bc8",
   "metadata": {},
   "source": [
    "Now let's plot that cross section next to our map..."
   ]
  },
  {
   "cell_type": "code",
   "execution_count": null,
   "id": "d32764e2",
   "metadata": {},
   "outputs": [],
   "source": [
    "fig=pygmt.Figure()\n",
    "pygmt.config(MAP_FRAME_TYPE='plain', FORMAT_GEO_MAP='ddd.xx')\n",
    "pygmt.makecpt(cmap='lajolla', series=[earthquakes['depth'].min(), earthquakes['depth'].max()])\n",
    "\n",
    "# Plotting the map\n",
    "fig.coast(region=[173,179,-42,-36],\n",
    "          shorelines=True,\n",
    "          land='lightgreen',\n",
    "          water='lightblue',\n",
    "          projection='M10c',\n",
    "          frame=['WSne','xa2f1','ya2f1'])\n",
    "fig.plot(x=earthquakes['longitude'],\n",
    "         y=earthquakes['latitude'],\n",
    "         size=0.02 * (2**earthquakes['magnitude']),\n",
    "         color=earthquakes['depth'],\n",
    "         cmap=True,\n",
    "         style='cc', pen='black')\n",
    "fig.colorbar(frame='af+l\"Depth (km)\"')\n",
    "section_line = pygmt.project(center=[176,-39], azimuth=135, length=[-100, 200], unit=True, generate=10)\n",
    "fig.plot(x=section_line['r'],\n",
    "         y=section_line['s'],\n",
    "         pen=\"3p,-\")\n",
    "\n",
    "# Plotting the cross section\n",
    "fig.shift_origin(xshift=\"12c\") # Shift the plot to the right hand side by 12 cm\n",
    "fig.basemap(region=[-100,200,0,300],\n",
    "            projection='X12c/-12c', # because both our axes are 300 km let's keep it to scale\n",
    "            frame=['nESw','xa50f10+l\"Distance (km)\"','ya50f10+l\"Depth (km)\"'])\n",
    "fig.plot(x=projected_earthquakes['distance'],\n",
    "         y=projected_earthquakes['depth'],\n",
    "         size=0.02 * (2**projected_earthquakes['magnitude']),\n",
    "         color=projected_earthquakes['depth'],\n",
    "         cmap=True,\n",
    "         style='cc', pen='black')\n",
    "\n",
    "fig.show()"
   ]
  },
  {
   "cell_type": "markdown",
   "id": "5f016f1d",
   "metadata": {},
   "source": [
    "Now, pick an interesting earthquake sequence and make a similar plot with a cross section. You'll need to edit your earthquake catalogue parameters:"
   ]
  },
  {
   "cell_type": "code",
   "execution_count": null,
   "id": "13252059",
   "metadata": {},
   "outputs": [],
   "source": [
    "### Your answer here"
   ]
  },
  {
   "cell_type": "markdown",
   "id": "c3408fb2",
   "metadata": {},
   "source": [
    "In the next notebook we'll plot some different types of data and continue to explore PyGMT"
   ]
  }
 ],
 "metadata": {
  "kernelspec": {
   "display_name": "Python 3 (ipykernel)",
   "language": "python",
   "name": "python3"
  },
  "language_info": {
   "codemirror_mode": {
    "name": "ipython",
    "version": 3
   },
   "file_extension": ".py",
   "mimetype": "text/x-python",
   "name": "python",
   "nbconvert_exporter": "python",
   "pygments_lexer": "ipython3",
   "version": "3.8.12"
  }
 },
 "nbformat": 4,
 "nbformat_minor": 5
}
